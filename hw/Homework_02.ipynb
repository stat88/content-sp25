{
 "cells": [
  {
   "cell_type": "markdown",
   "metadata": {
    "#question": false,
    "#solution": false,
    "#staff": false,
    "#student": false
   },
   "source": [
    "<table align=\"left\" style=\"border-style: hidden\" class=\"table\"> <tr><td class=\"col-md-2\"><img style=\"float\" src=\"../logo.png\" alt=\"Data 88S Logo\" style=\"width: 120px;\"/></td><td><div align=\"left\"><h3 style=\"margin-top: 0;\">Probability for Data Science</h3><h4 style=\"margin-top: 20px;\">UC Berkeley, Spring 2025</h4><p>Michael Xiao</p>CC BY-NC 4.0</div></td></tr></table><!-- not in pdf -->\n",
    "\n",
    "This content is protected and may not be shared, uploaded, or distributed."
   ]
  },
  {
   "cell_type": "markdown",
   "metadata": {
    "#question": false,
    "#solution": false,
    "#staff": false,
    "#student": false
   },
   "source": [
    "# Homework 2 (due Tuesday, February 4th at 5 PM)"
   ]
  },
  {
   "cell_type": "markdown",
   "metadata": {
    "#question": false,
    "#solution": false,
    "#staff": false,
    "#student": true
   },
   "source": [
    "### Instructions\n",
    "\n",
    "In all Data 88S homework, you will be providing written answers, not code. We encourage you to hand-write your answers. It is your responsibility to ensure that the homework is submitted completely and properly to Gradescope. **Make sure to assign each page of your pdf to the correct question. Refer to the bottom of the notebook for submission instructions.**"
   ]
  },
  {
   "cell_type": "markdown",
   "metadata": {
    "#question": false,
    "#solution": false,
    "#staff": false,
    "#student": true
   },
   "source": [
    "### How to Do Your Homework\n",
    "  The point of homework is for you to try your hand at using what you've learned in class. The steps to follow:\n",
    "\n",
    "- Go to lecture and sections, and also go over the relevant text sections and discussion sections before starting on the homework. You should not expect to simply remember all the ideas and details from what you heard in class.\n",
    "- Work on some of the chapter exercises before starting the homework.\n",
    "- Attempt the homework problems by yourself with the text and section work at hand. The step above will help this step go faster and be more fruitful.\n",
    "- At this point, seek help if you need it. Don't ask how to do the problem — ask how to get started, or explain where you are stuck and ask for a nudge to get you past that point.\n",
    "- For a good measure of your understanding, keep track of the fraction of the homework you can do by yourself or with minimal help. It's a better measure than your homework score, and only you can measure it.\n",
    "- **Draw lots of diagrams. They are really helpful, as in this homework where a Venn diagram or two might save you a headache.**"
   ]
  },
  {
   "cell_type": "markdown",
   "metadata": {
    "#question": false,
    "#solution": false,
    "#staff": false,
    "#student": true
   },
   "source": [
    "### Rules for Homework ###\n",
    "- Show your work. Give reasoning. The question isn't always going to ask for it, because we assume that you will provide justification for your answers. **If you don't supply reasoning, you won't get full credit.**\n",
    "- Every answer should contain a calculation, reasoning, or diagrams that are clearly labeled to show what's going on. For example, a calculation such as $(1/3)0.8 + (2/3)0.7$ or ```sum([(1/3)*0.8, (2/3)*0.7])``` is fine without further explanation or simplification. If we want you to simplify, we'll ask you to. But just $\\binom{5}{2}$ by itself is not fine; write \"we want any 2 out of the 5 frogs and they can appear in any order\" or whatever reasoning you used. Reasoning can be brief and abbreviated, e.g. \"product rule\" or \"not mutually exclusive.\"\n",
    "- You may consult others (see \"How to Do Your Homework\" above) but you must write up your own answers using your own words, notation, and sequence of steps.\n",
    "- We'll be using Gradescope. You must submit the homework according to the instructions at the end of homework set.\n",
    "\n",
    "## **We will not grade assignments which do not have pages correctly selected for each question.** ##"
   ]
  },
  {
   "cell_type": "markdown",
   "metadata": {
    "#question": false,
    "#solution": false,
    "#staff": false,
    "#student": false
   },
   "source": [
    "## 1. World Economies ##\n",
    "\n",
    "Economists are making predictions about the financial health of three countries. For $i = 1, 2, 3$, let $G_i$ be the event that Country $i$ has no recession next year. Let $G$ be the event that none of the countries has a recession next year.\n",
    "\n",
    "**a)** Express the event $G$ in terms of the events $G_1$, $G_2$, and $G_3$ and the set operations $\\cup$, $\\cap$, and $^c$. Then, state in plain words what the event $G^c$ is.\n",
    "\n",
    "**b)** Fill in the blank with one of the symbols $\\le$, $=$, and $\\ge$ so that the resulting statement is always true, and explain your answer: $P(G) \\underline{~~~~~~~~~~~~~~~~~} P(G_1)$.\n",
    "\n",
    "**c)** Suppose the economists' predictions are all rosy: $P(G_1) = 0.9$, $P(G_2) = 0.95$, and $P(G_3) = 0.99$.\n",
    "\n",
    "Fill in the blank with the best lower bound you can find, and justify your answer: \n",
    "\n",
    "Without making any further assumptions, we can say that $P(G) \\ge \\underline{~~~~~~~~~~~~~~~}$.\n",
    "\n",
    "[*Hint:* use complements]\n",
    "\n",
    "The method you have discovered in the above parts is commonly used to find bounds on chances of intersections, for example the chance that several estimates based on a random sample all have acceptable accuracy.\n",
    "\n",
    "**d)** Along with the assumptions in part **c)**, further assume that the economy of Country 2 depends strongly on the economy of Country 1. In particular, if Country 1 has no recession next year, then economists predict that Country 2 has an increased chance of $0.99$ of having no recession next year. \n",
    "\n",
    "Find the chance that next year, Country 1 has no recession, but Country 2 does. If it can't be found, then find the best lower bound and upper bound that you can. "
   ]
  },
  {
   "cell_type": "markdown",
   "metadata": {
    "#question": false,
    "#solution": false,
    "#staff": false,
    "#student": false
   },
   "source": [
    "\\newpage"
   ]
  },
  {
   "cell_type": "markdown",
   "metadata": {
    "#question": false,
    "#solution": false,
    "#staff": false,
    "#student": false
   },
   "source": [
    "## 2. Chocolate Box ##\n",
    "\n",
    "A box contains 12 chocolates, 3 of which are white chocolate, 4 milk chocolate, and 5 dark chocolate. \n",
    "\n",
    "I am sharing the box with three of my friends. The four of us take turns, each one drawing a chocolate at random from those available in the box. Yes, we're drawing without replacement. We intend to eat the chocolates, not put them back.\n",
    "\n",
    "Politely, I let my friends draw before me.\n",
    "\n",
    "For each of the subparts, provide your answer as an unsimplified fractional expression.\n",
    "\n",
    "**a)** What is the chance that I draw a dark chocolate?\n",
    "\n",
    "**b)** Given that none of my friends draws a dark chocolate, what is the chance that I draw a dark chocolate?\n",
    "\n",
    "**c)** What is the chance that all four of us draw milk chocolates?\n",
    "\n",
    "**d)** What is the chance that the friend who gets to select first draws a dark chocolate and I draw a dark chocolate too?"
   ]
  },
  {
   "cell_type": "markdown",
   "metadata": {
    "#question": false,
    "#solution": false,
    "#staff": false,
    "#student": false
   },
   "source": [
    "\\newpage"
   ]
  },
  {
   "cell_type": "markdown",
   "metadata": {
    "#question": false,
    "#solution": false,
    "#staff": false,
    "#student": false
   },
   "source": [
    "## 3. Detecting Breast Cancer ##\n",
    "\n",
    "A 2011 [article](https://ebm.bmj.com/content/16/6/163) in the British Medical Journal attempts to elucdiate Bayes' Rule for the medical profession. It's well worth reading and has some illuminating graphics. In this exercise you will confirm a result stated in the article. Useful terminology:\n",
    "\n",
    "- The *sensitivity* of a test for a medical condition is the proportion of correctly diagnosed patients among those who have the condition.\n",
    "- The *specificity* of the test is the proportion of correctly diagnosed patients among those who do not have the condition.\n",
    "\n",
    "Read those definitions a couple of times and note that a good test should have high values of both sensitivity and specificity.\n",
    "\n",
    "In the section Special Cases, the authors consider a 45-year-old woman who has a 1% chance of getting breast cancer in the subsequent five years. The article says, \"The sensitivity of routine screening mammography ranges from 71% to 96% and the specificity ranges from 94% to 97%. Using values of 80% for sensitivity and 96% for specificity, a positive test increases the probability to 17%.\"\n",
    "\n",
    "For this problem, show your work in finding each probability and box the final decimal answer.\n",
    "\n",
    "**a)** Use the same values as in the authors' calculation and confirm their result that \"a positive test increases the probability to 17%.\"\n",
    "\n",
    "**b)** Find all of the following; percents are fine too:\n",
    "\n",
    "(i) the chance that the woman won't get breast cancer in the subsequent five years\n",
    "\n",
    "(ii) the chance that the woman won't get breast cancer in the subsequent five years, if her test result is negative\n",
    "\n",
    "(iii) the chance that the woman won't get breast cancer in the subsequent five years, if her test result is positive\n",
    "\n",
    "(iv) the chance that the woman's test result is negative\n",
    "\n",
    "\n",
    "**c)** Suppose a woman went to get tested because she believed she had a 10% chance of getting breast cancer in the subsequent five years. What would be her probability of getting the disease, based on a positive test result? Use a sensitivity value of 80% and a specificity value of 96%."
   ]
  },
  {
   "cell_type": "markdown",
   "metadata": {
    "#question": false,
    "#solution": false,
    "#staff": false,
    "#student": false
   },
   "source": [
    "\\newpage"
   ]
  },
  {
   "cell_type": "markdown",
   "metadata": {
    "#question": false,
    "#solution": false,
    "#staff": false,
    "#student": false
   },
   "source": [
    "## 4. Balls in Boxes ##\n",
    "\n",
    "Students in probability classes sometimes wonder by probabilists seem to have a peculiar fascination with balls being thrown at random into boxes or drawn at random from urns. It's not just because probabilists are weird. It's because the image of balls and boxes is one unified way of thinking about repeated trials in diverse settings.\n",
    "\n",
    "For example, balls thrown at random into boxes independently of each other is a way of visualizing independent repeated trials that have equally likely outcomes. \n",
    "\n",
    "- Tossing a coin 10 times and keeping track of heads and tails is like throwing 10 balls independently at random into two boxes labeled H and T. The number of heads is the number of balls that fall in Box H.\n",
    "- Rolling a die 15 times and keeping track of the faces that appear is like throwing 15 balls independently at random into six boxes labeled $1, 2, 3, 4, 5, 6$.\n",
    "- Sampling $n$ times at random with replacement from a population of $N$ individuals is like throwing $n$ balls independently at random into $N$ boxes labeled $1, 2, \\ldots, N$. \n",
    "\n",
    "\n",
    "**a)** A random number generator that draws digits at random with replacement from $\\{0, 1, 2, 3, 4, 5, 6, 7, 8, 9\\}$ is run three times. Find the chance that the digits drawn can form the number 123, by rearrangement if necessary. \n",
    "\n",
    "Start by filling in the blanks in the following sentence; the first two blanks should be filled with integers. \"This experiment is like throwing $\\underline{~~~~~~~~~~}$ balls independently at random into $\\underline{~~~~~~~~~~}$ boxes labeled $\\underline{~~~~~~~~~~~~~~~~~~~~~~~~~~~~~~~}$.\" Then imagine where the balls must land to make the event occur. \n",
    "\n",
    "**b)** Five people enter an Evans Hall elevator (going up) on the first floor. Assume that each person presses the button for one of floors 2 through 10 at random, independently of all others. Find the chance that they press five different buttons. \n",
    "\n",
    "Start by filling in the blanks in the following sentence; the first two blanks should be filled with integers. \"This experiment is like throwing $\\underline{~~~~~~~~~~}$ balls independently at random into $\\underline{~~~~~~~~~~}$ boxes labeled $\\underline{~~~~~~~~~~~~~~~~~~~~~~~~~~~~~~~}$.\" Then imagine where the balls must land to make the event occur. \n",
    "\n",
    "**c)** A roulette wheel is split into 38 equally-sized arcs. 18 are red, 18 are black, and 2 are green. \n",
    "\n",
    "The wheel is spun three times, where the results of each spin are independent of each other. Using the scheme developed in parts **a)** and **b)**, find the chance that the wheel never lands on black.\n",
    "\n",
    "**d)** In part **c)**, are the events \"the wheel never lands on black\" and \"the wheel never lands on red\" independent? Explain your answer.\n"
   ]
  },
  {
   "cell_type": "markdown",
   "metadata": {
    "#question": false,
    "#solution": false,
    "#staff": false,
    "#student": false
   },
   "source": [
    "\\newpage"
   ]
  },
  {
   "cell_type": "markdown",
   "metadata": {
    "#question": false,
    "#solution": false,
    "#staff": false,
    "#student": true
   },
   "source": [
    "## Submission Instructions ##\n",
    "\n",
    "Please follow the directions below to properly submit your homework.\n",
    "\n",
    "### Written Work ###\n",
    "*  Scan all the pages into a PDF. You can use any scanner or a phone using applications such as CamScanner. Please **DO NOT** simply take pictures using your phone. \n",
    "* **Please start a new page for each question.** If you have already written multiple questions on the same page, you can crop the image in CamScanner or fold your page over (the old-fashioned way). This helps expedite grading.\n",
    "* It is your responsibility to check that all the work on all the scanned pages is legible.\n",
    "    \n",
    "### Submitting ###\n",
    "* Submit the assignment to Homework 2 on Gradescope. \n",
    "* **Make sure to assign each page of your pdf to the correct question.**\n",
    "* **It is your responsibility to verify that all of your work shows up in your final PDF submission.**\n",
    "\n",
    "If you have questions about scanning or uploading your work, please post a follow-up to the Ed thread on [Gradescope Assignment Submission](https://edstem.org/us/courses/74395/discussion/6006634)."
   ]
  }
 ],
 "metadata": {
  "checksums": [
   "fd2d44350155cd17cdaa06103cd63adb",
   "73da8263beff043a1f22a5fd91d28080",
   "4d58e9399ac7e4395bf8cfdaf0f59547",
   "76b7eaa4617ecd8ddee0fae681b9355c",
   "ec709731364ba0561ae7d9f7a9b29e79",
   "b18073170bf000ab6ed1d48cae6fd876",
   "562505d567faf02dfc9388e81e89d07b",
   "f43893b8a3524d288a8a042a8f97d525",
   "562505d567faf02dfc9388e81e89d07b",
   "e4320c7b4c5bab2d7b19f3f8bd324513",
   "562505d567faf02dfc9388e81e89d07b",
   "ab314380483ba02a43a7fdd716562b5a",
   "562505d567faf02dfc9388e81e89d07b",
   "11a35de924ee1505874d9e9953592b15"
  ],
  "kernelspec": {
   "display_name": "Python 3",
   "language": "python",
   "name": "python3"
  },
  "language_info": {
   "codemirror_mode": {
    "name": "ipython",
    "version": 3
   },
   "file_extension": ".py",
   "mimetype": "text/x-python",
   "name": "python",
   "nbconvert_exporter": "python",
   "pygments_lexer": "ipython3",
   "version": "3.7.11"
  },
  "number_of_pagebreaks": 0
 },
 "nbformat": 4,
 "nbformat_minor": 4
}
