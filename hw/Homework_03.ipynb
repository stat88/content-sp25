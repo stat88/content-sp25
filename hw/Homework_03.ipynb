{
 "cells": [
  {
   "cell_type": "markdown",
   "metadata": {
    "#question": false,
    "#solution": false,
    "#staff": false,
    "#student": false
   },
   "source": [
    "<table align=\"left\" style=\"border-style: hidden\" class=\"table\"> <tr><td class=\"col-md-2\"><img style=\"float\" src=\"../logo.png\" alt=\"Data 88S Logo\" style=\"width: 120px;\"/></td><td><div align=\"left\"><h3 style=\"margin-top: 0;\">Probability for Data Science</h3><h4 style=\"margin-top: 20px;\">UC Berkeley, Spring 2025</h4><p>Michael Xiao</p>CC BY-NC 4.0</div></td></tr></table><!-- not in pdf -->\n",
    "\n",
    "This content is protected and may not be shared, uploaded, or distributed."
   ]
  },
  {
   "cell_type": "code",
   "execution_count": null,
   "metadata": {
    "#question": false,
    "#solution": false,
    "#staff": false,
    "#student": false
   },
   "outputs": [],
   "source": [
    "from datascience import *\n",
    "import numpy as np\n",
    "from scipy import stats"
   ]
  },
  {
   "cell_type": "markdown",
   "metadata": {
    "#question": false,
    "#solution": false,
    "#staff": false,
    "#student": false
   },
   "source": [
    "# Homework 3 (due Tuesday, February 11th at 5 PM)"
   ]
  },
  {
   "cell_type": "markdown",
   "metadata": {
    "#question": false,
    "#solution": false,
    "#staff": false,
    "#student": true
   },
   "source": [
    "### Instructions\n",
    "\n",
    "In all Data 88S homework, you will be providing written answers, not code. We encourage you to hand-write your answers. It is your responsibility to ensure that the homework is submitted completely and properly to Gradescope. **Make sure to assign each page of your pdf to the correct question. Refer to the bottom of the notebook for submission instructions.**"
   ]
  },
  {
   "cell_type": "markdown",
   "metadata": {
    "#question": false,
    "#solution": false,
    "#staff": false,
    "#student": true
   },
   "source": [
    "### How to Do Your Homework\n",
    "  The point of homework is for you to try your hand at using what you've learned in class. The steps to follow:\n",
    "\n",
    "- Go to lecture and sections, and also go over the relevant text sections and discussion sections before starting on the homework. You should not expect to simply remember all the ideas and details from what you heard in class.\n",
    "- Work on some of the chapter exercises before starting the homework.\n",
    "- Attempt the homework problems by yourself with the text and section work at hand. The step above will help this step go faster and be more fruitful.\n",
    "- At this point, seek help if you need it. Don't ask how to do the problem — ask how to get started, or explain where you are stuck and ask for a nudge to get you past that point.\n",
    "- For a good measure of your understanding, keep track of the fraction of the homework you can do by yourself or with minimal help. It's a better measure than your homework score, and only you can measure it.\n",
    "- **Draw lots of diagrams. They are really helpful, as in this homework where a Venn diagram or two might save you a headache.**"
   ]
  },
  {
   "cell_type": "markdown",
   "metadata": {
    "#question": false,
    "#solution": false,
    "#staff": false,
    "#student": true
   },
   "source": [
    "### Rules for Homework ###\n",
    "- Show your work. Give reasoning. The question isn't always going to ask for it, because we assume that you will provide justification for your answers. **If you don't supply reasoning, you won't get full credit.**\n",
    "- Every answer should contain a calculation, reasoning, or diagrams that are clearly labeled to show what's going on. For example, a calculation such as $(1/3)0.8 + (2/3)0.7$ or ```sum([(1/3)*0.8, (2/3)*0.7])``` is fine without further explanation or simplification. If we want you to simplify, we'll ask you to. But just $\\binom{5}{2}$ by itself is not fine; write \"we want any 2 out of the 5 frogs and they can appear in any order\" or whatever reasoning you used. Reasoning can be brief and abbreviated, e.g. \"product rule\" or \"not mutually exclusive.\"\n",
    "- You may consult others (see \"How to Do Your Homework\" above) but you must write up your own answers using your own words, notation, and sequence of steps.\n",
    "- We'll be using Gradescope. You must submit the homework according to the instructions at the end of homework set.\n",
    "\n",
    "## **We will not grade assignments which do not have pages correctly selected for each question.** ##"
   ]
  },
  {
   "cell_type": "markdown",
   "metadata": {
    "#question": false,
    "#solution": false,
    "#staff": false,
    "#student": false
   },
   "source": [
    "In some of the problems below, you have to do a numerical calculation in a code cell. All the libraries you might need have been imported for you. Run the import cell at the top before you start the homework.\n",
    "\n",
    "We strongly recommend studying the code in [Section 3.3.5](http://stat88.org/textbook/content/Chapter_03/03_The_Binomial_Distribution.html#binomial-probabilities-in-python) of the textbook. It will be helpful for Exercises 3 and 4.\n",
    "\n",
    "**Note about terminology:** Once and for all: If a question says \"$k$ successes\" it means exactly $k$ successes."
   ]
  },
  {
   "cell_type": "markdown",
   "metadata": {
    "#question": false,
    "#solution": false,
    "#staff": false,
    "#student": false
   },
   "source": [
    "## 1. Monkey Dialing 911 ##\n",
    "\n",
    "Route, a baby Capuchin monkey in Southern California, [managed to call 911](https://abc7news.com/monkey-calls-911-ca-zoo-capuchin-san-luis-obispo-route-the/12131565/) on a cell phone. Nobody is quite sure how Route did this, but let's see what the probabilities look like if we make up some assumptions.\n",
    "\n",
    "**a)** Suppose a cell phone screen has Call button as well as a grid of 12 buttons consisting of \n",
    "\n",
    "- one each for the 10 digits 0 through 9, \n",
    "- the \\* symbol, and \n",
    "- the \\# symbol.\n",
    "\n",
    "Suppose that each time a monkey presses a button on this screen, it has a 70% chance of picking the brightly colored Call button and a 30% chance of picking at a button at random from the other 12 buttons, independent of its choices at all other times. \n",
    "\n",
    "What is the chance that the first four buttons the monkey presses are 9, 1, 1, Call, in that order? Write the arithmetic expression on paper (not in code) and provide its numerical value. You can use the code cell below, or a calculator, or any such computational device. We will not grade your code."
   ]
  },
  {
   "cell_type": "code",
   "execution_count": null,
   "metadata": {
    "#question": false,
    "#solution": false,
    "#staff": false,
    "#student": true
   },
   "outputs": [],
   "source": [
    "# Calculation for 1a\n",
    "\n",
    "..."
   ]
  },
  {
   "cell_type": "markdown",
   "metadata": {
    "#question": false,
    "#solution": false,
    "#staff": false,
    "#student": false
   },
   "source": [
    "**b)** Now suppose each of 500 monkeys has a cell phone screen just like the one in Part **a**, and each monkey presses the buttons under the assumptions of Part **a** independently of all other monkeys. What is the chance that at least one of the 500 monkeys chooses 9, 1, 1, Call (in that order) as the first four buttons to press? As in Part **a**, write the arithmetic expression on paper and then find its numerical value."
   ]
  },
  {
   "cell_type": "code",
   "execution_count": null,
   "metadata": {
    "#question": false,
    "#solution": false,
    "#staff": false,
    "#student": true
   },
   "outputs": [],
   "source": [
    "# Calculation for 1b\n",
    "\n",
    "..."
   ]
  },
  {
   "cell_type": "markdown",
   "metadata": {
    "#question": false,
    "#solution": false,
    "#staff": false,
    "#student": false
   },
   "source": [
    "\\newpage"
   ]
  },
  {
   "cell_type": "markdown",
   "metadata": {
    "#question": false,
    "#solution": false,
    "#staff": false,
    "#student": false
   },
   "source": [
    "## 2. Faces of a Tetrahedron ##\n",
    "\n",
    "A tetrahedron is a regular four-sided figure, like a four-sided die. Assume that when I roll a tetrahedron, each of the four sides is equally likely to appear, independent of all other rolls. \n",
    "\n",
    "Suppose the sides of the tetrahedron are labeled 1, 2, 3, and 4. Define two random variables:\n",
    "\n",
    "- $X$ is the label that I see on the first roll\n",
    "- $D$ is the number of times I roll till I see a label I have seen before\n",
    "\n",
    "For example, if the first few labels are 3, 4, 1, 3, 1, 2, 1 then $X = 3$ and $D = 4$.\n",
    "\n",
    "**a)** What is the distribution of $X$?\n",
    "\n",
    "**b)** What are the possible values of $D$?\n",
    "\n",
    "**c)** Find the distribution of $D$. Remember to explain your answer, and write arithmetic expressions for the probabilities involved. \n",
    "\n",
    "**d)** Find the decimal values of the probabilities in Part **c**. What should their sum be? Check this numerically using a calculator or the code cell below.\n",
    "\n",
    "**e)** What is the most likely value of $D$, and what is its probability?\n",
    "\n",
    "**f)** Find $P(X = 2, D = 3)$. Write it as an arithmetic expression and find its decimal value."
   ]
  },
  {
   "cell_type": "code",
   "execution_count": null,
   "metadata": {
    "#question": false,
    "#solution": false,
    "#staff": false,
    "#student": true
   },
   "outputs": [],
   "source": [
    "# Calculations in Exercise 2\n",
    "\n",
    "..."
   ]
  },
  {
   "cell_type": "markdown",
   "metadata": {
    "#question": false,
    "#solution": false,
    "#staff": false,
    "#student": false
   },
   "source": [
    "\\newpage"
   ]
  },
  {
   "cell_type": "markdown",
   "metadata": {
    "#question": false,
    "#solution": false,
    "#staff": false,
    "#student": false
   },
   "source": [
    "## 3. Daily Instagram Users ##\n",
    "\n",
    "According to a [survey](https://www.pewresearch.org/fact-tank/2021/10/07/7-facts-about-americans-and-instagram/), 59% of U.S. adults on Instagram use the site daily. Accept this proportion as correct, and suppose you sample 25 times at random with replacement from U.S. adults on Instagram.\n",
    "\n",
    "For the numerical calculations below, we recommend following the code examples in [Section 3.3.5](http://stat88.org/textbook/content/Chapter_03/03_The_Binomial_Distribution.html#binomial-probabilities-in-python) of the textbook. You don't have to import the library. It has been imported for you in the top cell of this notebook.\n",
    "\n",
    "**a)** What is the distribution of the number of sampled adults who use Instagram daily?\n",
    "\n",
    "**b)** What is the chance that fewer than half of the sampled adults use Instagram daily? Write a mathematical expression for this chance, and then calculate the decimal value using the code cell below. "
   ]
  },
  {
   "cell_type": "code",
   "execution_count": null,
   "metadata": {
    "#question": false,
    "#solution": false,
    "#staff": false,
    "#student": true
   },
   "outputs": [],
   "source": [
    "# Calculation for 3b\n",
    "\n",
    "..."
   ]
  },
  {
   "cell_type": "markdown",
   "metadata": {
    "#question": false,
    "#solution": false,
    "#staff": false,
    "#student": false
   },
   "source": [
    "**c)** What is the chance that your sample contains 15 adults who use Instagram daily, and 7 of those people appeared in the first 10 draws? As in Part **b**, write a mathematical expression and then use the code cell to find the chance."
   ]
  },
  {
   "cell_type": "code",
   "execution_count": null,
   "metadata": {
    "#question": false,
    "#solution": false,
    "#staff": false,
    "#student": true
   },
   "outputs": [],
   "source": [
    "# Calculation for 3c\n",
    "\n",
    "..."
   ]
  },
  {
   "cell_type": "markdown",
   "metadata": {
    "#question": false,
    "#solution": false,
    "#staff": false,
    "#student": false
   },
   "source": [
    "\\newpage"
   ]
  },
  {
   "cell_type": "markdown",
   "metadata": {
    "#question": false,
    "#solution": false,
    "#staff": false,
    "#student": false
   },
   "source": [
    "## 4. Thoughtful Politicians ##\n",
    "\n",
    "[This problem setting is due to [Prof. James Norris](https://www.maths.cam.ac.uk/person/jrn10) of Cambridge University.]\n",
    "\n",
    "In a group of 100 politicians, 40 are in Party I and 60 are in Party II. Members of Party I are incapable of changing their minds about anything. Members of Party II change their minds completely randomly every day, independently of all others and also independently of all evidence.\n",
    "\n",
    "Tomorrow, the politicians are going to vote on Proposition 88. Here is a summary of their opinions today.\n",
    "\n",
    "Of the 40 members in Party I, 25 are in favor of Prop 88 and 15 are against.\n",
    "Of the 60 members in Party II, 10 are in favor and 50 are against.\n",
    "Assume that each member in Party II changes their mind based on the toss of a coin: if it lands heads they switch to the opposite opinion and if it lands tails they don't change their mind.\n",
    "\n",
    "**a)** What is the distribution of the number of members in Party II who will favor Prop 88 tomorrow? In what way, if any, does it depend on the information given about the opinions of Party II members today?\n",
    "\n",
    "**b)** Write a math expression for the chance that a majority (more than 50) of the 100 politicians favor Prop 88 tomorrow. Use the code cell below to compute it and provide the final numerical answer on paper along with your math expression."
   ]
  },
  {
   "cell_type": "code",
   "execution_count": null,
   "metadata": {
    "#question": false,
    "#solution": false,
    "#staff": false,
    "#student": true
   },
   "outputs": [],
   "source": [
    "# Calculation for 4b\n",
    "\n",
    "..."
   ]
  },
  {
   "cell_type": "markdown",
   "metadata": {
    "#question": false,
    "#solution": false,
    "#staff": false,
    "#student": false
   },
   "source": [
    "\\newpage"
   ]
  },
  {
   "cell_type": "markdown",
   "metadata": {
    "#question": false,
    "#solution": false,
    "#staff": false,
    "#student": true
   },
   "source": [
    "## Submission Instructions ##\n",
    "\n",
    "Please follow the directions below to properly submit your homework.\n",
    "\n",
    "### Written Work ###\n",
    "*  Scan all the pages into a PDF. You can use any scanner or a phone using applications such as CamScanner. Please **DO NOT** simply take pictures using your phone. \n",
    "* **Please start a new page for each question.** If you have already written multiple questions on the same page, you can crop the image in CamScanner or fold your page over (the old-fashioned way). This helps expedite grading.\n",
    "* It is your responsibility to check that all the work on all the scanned pages is legible.\n",
    "    \n",
    "### Submitting ###\n",
    "* Submit the assignment to Homework 3 on Gradescope. \n",
    "* **Make sure to assign each page of your pdf to the correct question.**\n",
    "* **It is your responsibility to verify that all of your work shows up in your final PDF submission.**\n",
    "\n",
    "If you have questions about scanning or uploading your work, please post a follow-up to the Ed thread on [Gradescope Assignment Submission](https://edstem.org/us/courses/74395/discussion/6006634)."
   ]
  }
 ],
 "metadata": {
  "checksums": [
   "fd2d44350155cd17cdaa06103cd63adb",
   "d81c015fe17ef0f91b778d7089110778",
   "9a787fa845fd6cb53250e60fc48cd04f",
   "4d58e9399ac7e4395bf8cfdaf0f59547",
   "76b7eaa4617ecd8ddee0fae681b9355c",
   "ec709731364ba0561ae7d9f7a9b29e79",
   "62a50abc6eda33a8d1de48c9f13230a9",
   "5c22be44fb051cfa195328900afb476e",
   "9ff6aebcc8146b47452c5d943df5ac3b",
   "7d53736f6a476f9027d3ae83bc5944ed",
   "62916d45e4328e56adf3f555e71e3bfb",
   "562505d567faf02dfc9388e81e89d07b",
   "50c6b476dfb7d2eef4f544288e55cf84",
   "e71e8497587fb7160828d2562759e76c",
   "562505d567faf02dfc9388e81e89d07b",
   "3ff77ac27811f2f9c62ddf64c9f5fa7a",
   "16d1a0c77f0d4fe823476df341102bfd",
   "0e77d7107e9a0e68eb0dab23078d4250",
   "5b6ec63dd9da6857af0263a700cf9428",
   "562505d567faf02dfc9388e81e89d07b",
   "c82d72e6f9c4dfbc4a505ddb59b983de",
   "eb1a1ab24861883d81b1efc463ed86f7",
   "562505d567faf02dfc9388e81e89d07b",
   "2e436f18faf14a2b30f0721b5cce1cff"
  ],
  "kernelspec": {
   "display_name": "Python 3",
   "language": "python",
   "name": "python3"
  },
  "language_info": {
   "codemirror_mode": {
    "name": "ipython",
    "version": 3
   },
   "file_extension": ".py",
   "mimetype": "text/x-python",
   "name": "python",
   "nbconvert_exporter": "python",
   "pygments_lexer": "ipython3",
   "version": "3.7.11"
  },
  "number_of_pagebreaks": 0
 },
 "nbformat": 4,
 "nbformat_minor": 4
}
