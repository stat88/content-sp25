{
 "cells": [
  {
   "cell_type": "markdown",
   "metadata": {
    "#question": false,
    "#solution": false,
    "#staff": false,
    "#student": false
   },
   "source": [
    "<table align=\"left\" style=\"border-style: hidden\" class=\"table\"> <tr><td class=\"col-md-2\"><img style=\"float\" src=\"../logo.png\" alt=\"Data 88S Logo\" style=\"width: 120px;\"/></td><td><div align=\"left\"><h3 style=\"margin-top: 0;\">Probability for Data Science</h3><h4 style=\"margin-top: 20px;\">UC Berkeley, Spring 2025</h4><p>Michael Xiao</p>CC BY-NC 4.0</div></td></tr></table><!-- not in pdf -->\n",
    "\n",
    "This content is protected and may not be shared, uploaded, or distributed."
   ]
  },
  {
   "cell_type": "markdown",
   "metadata": {
    "#question": false,
    "#solution": false,
    "#staff": false,
    "#student": false
   },
   "source": [
    "# Homework 1 (due Tuesday, January 28th at 5 PM)"
   ]
  },
  {
   "cell_type": "markdown",
   "metadata": {
    "#question": false,
    "#solution": false,
    "#staff": false,
    "#student": true
   },
   "source": [
    "### Instructions\n",
    "\n",
    "In all Data 88S homework, you will be providing written answers, not code. We encourage you to hand-write your answers. It is your responsibility to ensure that the homework is submitted completely and properly to Gradescope. **Make sure to assign each page of your pdf to the correct question. Refer to the bottom of the notebook for submission instructions.**"
   ]
  },
  {
   "cell_type": "markdown",
   "metadata": {
    "#question": false,
    "#solution": false,
    "#staff": false,
    "#student": true
   },
   "source": [
    "### How to Do Your Homework\n",
    "  The point of homework is for you to try your hand at using what you've learned in class. The steps to follow:\n",
    "\n",
    "- Go to lecture and sections, and also go over the relevant text sections and discussion sections before starting on the homework. You should not expect to simply remember all the ideas and details from what you heard in class.\n",
    "- Work on some of the chapter exercises before starting the homework.\n",
    "- Attempt the homework problems by yourself with the text and section work at hand. The step above will help this step go faster and be more fruitful.\n",
    "- At this point, seek help if you need it. Don't ask how to do the problem — ask how to get started, or explain where you are stuck and ask for a nudge to get you past that point.\n",
    "- For a good measure of your understanding, keep track of the fraction of the homework you can do by yourself or with minimal help. It's a better measure than your homework score, and only you can measure it.\n",
    "- **Draw lots of diagrams. They are really helpful, as in this homework where a Venn diagram or two might save you a headache.**"
   ]
  },
  {
   "cell_type": "markdown",
   "metadata": {
    "#question": false,
    "#solution": false,
    "#staff": false,
    "#student": true
   },
   "source": [
    "### Rules for Homework ###\n",
    "- Show your work. Give reasoning. The question isn't always going to ask for it, because we assume that you will provide justification for your answers. **If you don't supply reasoning, you won't get full credit.**\n",
    "- Every answer should contain a calculation, reasoning, or diagrams that are clearly labeled to show what's going on. For example, a calculation such as $(1/3)0.8 + (2/3)0.7$ or ```sum([(1/3)*0.8, (2/3)*0.7])``` is fine without further explanation or simplification. If we want you to simplify, we'll ask you to. But just $\\binom{5}{2}$ by itself is not fine; write \"we want any 2 out of the 5 frogs and they can appear in any order\" or whatever reasoning you used. Reasoning can be brief and abbreviated, e.g. \"product rule\" or \"not mutually exclusive.\"\n",
    "- You may consult others (see \"How to Do Your Homework\" above) but you must write up your own answers using your own words, notation, and sequence of steps.\n",
    "- We'll be using Gradescope. You must submit the homework according to the instructions at the end of homework set.\n",
    "\n",
    "## **We will not grade assignments which do not have pages correctly selected for each question.** ##"
   ]
  },
  {
   "cell_type": "markdown",
   "metadata": {
    "#question": true,
    "#solution": false,
    "#staff": false,
    "#student": false,
    "tags": []
   },
   "source": [
    "## 1. Leibniz's Error ##\n",
    "\n",
    "The German philosopher and mathematician [Gottfried von Leibniz](https://en.wikipedia.org/wiki/Gottfried_Wilhelm_Leibniz) came up with the ideas of calculus, independently of Isaac Newton. Leibniz was also interested in probability, and while his name is associated with many fundamentally important areas of mathematics, it is also associated with an unfortunate statement about chances.\n",
    "\n",
    "Consider rolling two dice and adding up the total number of spots you get. Leibniz called these \"points\", so that for example if both dice show one spot then you get two points. \n",
    "\n",
    "**a)** Imagine one of the dice to be blue and the other one gold, and let an outcome consist of the pair of faces that appear. How many possible outcomes does the experiment have? You can reason by a calculation, or by listing all the outcomes, or by displaying them in a suitable table, or any unambiguous method of your choice.\n",
    "\n",
    "**b)** In 1768, Leibniz wrote in his *Opera Omnia* that, \"... for example, with two dice, it is equally likely to throw twelve points, than to throw 11; because one or the other can be done in only one manner.\" Assume as Leibniz did that both dice are fair and that therefore all the outcomes in Part **a** are equally likely. Find $P(\\text{11 points})$ as well as $P(\\text{12 points})$ and explain why the answer is not what Leibniz wrote. \n",
    "\n",
    "**c)** It appears that Leibniz didn't take the time to actually roll two dice over and over again and keep track of the number of points. You don't have to either. Just extend the calculation that you did in Part **b** to find the distribution of probabilities for the number of points that result from the experiment. Display your answer in a table that has two rows. The top row should consist of all the possible numbers of points, in increasing order. The bottom row should contain the corresponding probabilities. \n",
    "\n",
    "As an example of such a \"distribution table\", here is one that displays the distribution of probabilities of points if the experiment consisted of rolling just one die.\n",
    "\n",
    "|Number of points $n$|$1$|$2$|$3$|$4$|$5$|$6$|\n",
    "|---------:|:---:|:---:|:---:|:---:|:---:|:---:|\n",
    "|P($n$ points)|$\\frac{1}{6}$|$\\frac{1}{6}$|$\\frac{1}{6}$|$\\frac{1}{6}$|$\\frac{1}{6}$|$\\frac{1}{6}$|\n",
    "\n",
    "Once you have completed your table, you will see why the distribution is called *triangular*."
   ]
  },
  {
   "cell_type": "markdown",
   "metadata": {
    "#question": false,
    "#solution": false,
    "#staff": false,
    "#student": false
   },
   "source": [
    "\\newpage"
   ]
  },
  {
   "cell_type": "markdown",
   "metadata": {
    "#question": true,
    "#solution": false,
    "#staff": false,
    "#student": false,
    "tags": []
   },
   "source": [
    "## 2. Rainy Weekend? ##\n",
    "\n",
    "Suppose you're heading off for a long weekend (Friday, Saturday, and Sunday) somewhere and the weather report for your destination says:\n",
    "\n",
    "- Chance of rain on Friday: 10%\n",
    "- Chance of rain on Saturday: 25%\n",
    "- Chance of rain on Sunday: 30%\n",
    "\n",
    "In each part below, find the chance exactly if it can be found using no further assumptions. If it can't be found, then (again using no further assumptions) find the best lower bound and upper bound that you can.\n",
    "\n",
    "**a)** the chance that it rains in your destination sometime during the long weekend\n",
    "\n",
    "**b)** the chance that it rains in your destination on all three days of the long weekend"
   ]
  },
  {
   "cell_type": "markdown",
   "metadata": {
    "#question": false,
    "#solution": false,
    "#staff": false,
    "#student": false
   },
   "source": [
    "\\newpage"
   ]
  },
  {
   "cell_type": "markdown",
   "metadata": {
    "#question": true,
    "#solution": false,
    "#staff": false,
    "#student": false
   },
   "source": [
    "## 3. Puppies! ##\n",
    "\n",
    "Jane’s dog, Posie, has three puppies, and let us assume that each of the babies is either a male ($\\text{M}$) or a female ($\\text{F}$), and each puppy is equally likely to be either male or female. This gives us eight possible equally likely outcomes\n",
    "for Posie’s puppies: $\\text{FFF}$, $\\text{FFM}$, $\\text{FMF}$, $\\text{MFF}$, $\\text{MMF}$, $\\text{MFM}$, $\\text{FMM}$, $\\text{MMM}$.\n",
    "\n",
    "For each of the following events, clearly write out the outcomes in each of events ***and*** find the probabilities for those events.\n",
    "\n",
    "**a)** The event that all three puppies are the same sex.\n",
    "\n",
    "**b)** The event that there are exactly two male pups.\n",
    "\n",
    "**c)** The event that there is at most one male.\n",
    "\n",
    "**d)** The event that there is at least one male."
   ]
  },
  {
   "cell_type": "markdown",
   "metadata": {
    "#question": false,
    "#solution": false,
    "#staff": false,
    "#student": false
   },
   "source": [
    "\\newpage"
   ]
  },
  {
   "cell_type": "markdown",
   "metadata": {
    "#question": false,
    "#solution": false,
    "#staff": false,
    "#student": true
   },
   "source": [
    "## Submission Instructions ##\n",
    "\n",
    "Please follow the directions below to properly submit your homework.\n",
    "\n",
    "### Written Work ###\n",
    "*  Scan all the pages into a PDF. You can use any scanner or a phone using applications such as CamScanner. Please **DO NOT** simply take pictures using your phone. \n",
    "* **Please start a new page for each question.** If you have already written multiple questions on the same page, you can crop the image in CamScanner or fold your page over (the old-fashioned way). This helps expedite grading.\n",
    "* It is your responsibility to check that all the work on all the scanned pages is legible.\n",
    "    \n",
    "### Submitting ###\n",
    "* Submit the assignment to Homework 1 on Gradescope. \n",
    "* **Make sure to assign each page of your pdf to the correct question.**\n",
    "* **It is your responsibility to verify that all of your work shows up in your final PDF submission.**\n",
    "\n",
    "If you have questions about scanning or uploading your work, please post a follow-up to the Ed thread on [Gradescope Assignment Submission](https://edstem.org/us/courses/74395/discussion/6006634)."
   ]
  }
 ],
 "metadata": {
  "checksums": [
   "fd2d44350155cd17cdaa06103cd63adb",
   "6d4f8f32195f196621d9e579a3b99548",
   "4d58e9399ac7e4395bf8cfdaf0f59547",
   "76b7eaa4617ecd8ddee0fae681b9355c",
   "ec709731364ba0561ae7d9f7a9b29e79",
   "de027f1efe5a08451c561d1cf3ce1a02",
   "562505d567faf02dfc9388e81e89d07b",
   "ff779e63432c387f1fc9f7e0493c7671",
   "562505d567faf02dfc9388e81e89d07b",
   "1a60fcde42609d80600fc54c2ba3af39",
   "562505d567faf02dfc9388e81e89d07b",
   "325686bae2e86ad98f7ce341a58ce286"
  ],
  "kernelspec": {
   "display_name": "Python 3",
   "language": "python",
   "name": "python3"
  },
  "language_info": {
   "codemirror_mode": {
    "name": "ipython",
    "version": 3
   },
   "file_extension": ".py",
   "mimetype": "text/x-python",
   "name": "python",
   "nbconvert_exporter": "python",
   "pygments_lexer": "ipython3",
   "version": "3.7.11"
  },
  "number_of_pagebreaks": 0
 },
 "nbformat": 4,
 "nbformat_minor": 4
}
