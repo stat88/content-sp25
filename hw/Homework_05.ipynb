{
 "cells": [
  {
   "cell_type": "markdown",
   "metadata": {
    "#question": false,
    "#solution": false,
    "#staff": false,
    "#student": false
   },
   "source": [
    "<table align=\"left\" style=\"border-style: hidden\" class=\"table\"> <tr><td class=\"col-md-2\"><img style=\"float\" src=\"../logo.png\" alt=\"Data 88S Logo\" style=\"width: 120px;\"/></td><td><div align=\"left\"><h3 style=\"margin-top: 0;\">Probability for Data Science</h3><h4 style=\"margin-top: 20px;\">UC Berkeley, Spring 2025</h4><p>Michael Xiao</p>CC BY-NC 4.0</div></td></tr></table><!-- not in pdf -->\n",
    "\n",
    "This content is protected and may not be shared, uploaded, or distributed."
   ]
  },
  {
   "cell_type": "code",
   "execution_count": null,
   "metadata": {
    "#question": false,
    "#solution": false,
    "#staff": false,
    "#student": false
   },
   "outputs": [],
   "source": [
    "from datascience import *\n",
    "import numpy as np\n",
    "from scipy import stats"
   ]
  },
  {
   "cell_type": "markdown",
   "metadata": {
    "#question": false,
    "#solution": false,
    "#staff": false,
    "#student": false
   },
   "source": [
    "# Homework 5 (due Tuesday, February 25th at 5 PM)"
   ]
  },
  {
   "cell_type": "markdown",
   "metadata": {
    "#question": false,
    "#solution": false,
    "#staff": false,
    "#student": true
   },
   "source": [
    "### Instructions\n",
    "\n",
    "In all Data 88S homework, you will be providing written answers, not code. We encourage you to hand-write your answers. It is your responsibility to ensure that the homework is submitted completely and properly to Gradescope. **Make sure to assign each page of your pdf to the correct question. Refer to the bottom of the notebook for submission instructions.**"
   ]
  },
  {
   "cell_type": "markdown",
   "metadata": {
    "#question": false,
    "#solution": false,
    "#staff": false,
    "#student": true
   },
   "source": [
    "### Rules for Homework ###\n",
    "- Show your work. Give reasoning. The question isn't always going to ask for it, because we assume that you will provide justification for your answers. **If you don't supply reasoning, you won't get full credit.**\n",
    "- Every answer should contain a calculation, reasoning, or diagrams that are clearly labeled to show what's going on. For example, a calculation such as $(1/3)0.8 + (2/3)0.7$ or ```sum([(1/3)*0.8, (2/3)*0.7])``` is fine without further explanation or simplification. If we want you to simplify, we'll ask you to. But just $\\binom{5}{2}$ by itself is not fine; write \"we want any 2 out of the 5 frogs and they can appear in any order\" or whatever reasoning you used. Reasoning can be brief and abbreviated, e.g. \"product rule\" or \"not mutually exclusive.\"\n",
    "- You may consult others (see \"How to Do Your Homework\" above) but you must write up your own answers using your own words, notation, and sequence of steps.\n",
    "- We'll be using Gradescope. You must submit the homework according to the instructions at the end of homework set.\n",
    "\n",
    "## **We will not grade assignments which do not have pages correctly selected for each question.** ##"
   ]
  },
  {
   "cell_type": "markdown",
   "metadata": {
    "#question": false,
    "#solution": false,
    "#staff": false,
    "#student": false
   },
   "source": [
    "## 1. Cars at a Crossing ##\n",
    "\n",
    "Salil sits at a cafe for 30 minutes sipping tea and watching cars go by. Assume:\n",
    "\n",
    "- the number of US-made cars $U$ has the Poisson $(7)$ distribution\n",
    "- the number of Japanese-made cars $J$ has the Poisson $(5)$ distribution\n",
    "- the number of all other cars $X$ has the Poisson $(4)$ distribution\n",
    "\n",
    "Assume also that $U$, $J$, and $X$ are independent of each other, and let the total number of cars be $T = U + J + X$.\n",
    "\n",
    "Some parts below ask for numerical values as well as math expressions. There is a code cell at the end of the exercise for numerical computations. As usual, you do not need to submit any code, just the numerical values when asked.\n",
    "\n",
    "**a)** Write a math expression for $P(U \\ge 9, J \\ge 9)$ that does not include any infinite sums. Then use the code cell to find its numerical value, and provide the numerical value along with your expression.\n",
    "\n",
    "**b)** Write a math expression for $P(J = X)$. It's fine to leave this answer as an infinite sum. You don't have to find a numerical value.\n",
    "\n",
    "**c)** Write a math expression for $P(T = 20)$, and provide its numerical value by using the code cell below."
   ]
  },
  {
   "cell_type": "code",
   "execution_count": null,
   "metadata": {
    "#question": false,
    "#solution": false,
    "#staff": false,
    "#student": true
   },
   "outputs": [],
   "source": [
    "# Code cell for Exercise 1 numerical calculations\n"
   ]
  },
  {
   "cell_type": "markdown",
   "metadata": {
    "#question": false,
    "#solution": false,
    "#staff": false,
    "#student": false
   },
   "source": [
    "\\newpage"
   ]
  },
  {
   "cell_type": "markdown",
   "metadata": {
    "#question": false,
    "#solution": false,
    "#staff": false,
    "#student": false
   },
   "source": [
    "## 2. Bad Widgets\n",
    "A factory produces $5n$ widgets. Each widget fails the factory's quality control test with chance $\\frac{1}{n}$ independent of all other widgets. Let $W$ be the number of widgets that fail the test.\n",
    "\n",
    "**a)** Fill in each blank with the name of a famous distribution as well as the parameters. **Explain your answers.**\n",
    "\n",
    "The distribution of $W$ is $\\underline{~~~~~~~~~~~~~~~~~~~~~~~~~~~~~~~}$. When $n$ is large, this is well approximated by the $\\underline{~~~~~~~~~~~~~~~~~~~~~~~~~~~~~~~}$ distribution.\n",
    "\n",
    "**b)** For large $n$, write a math expression that approximates $P(W \\leq 4)$. Use the code cell below to find the numerical value of the approximation and provide it with your answer."
   ]
  },
  {
   "cell_type": "code",
   "execution_count": null,
   "metadata": {
    "#question": false,
    "#solution": false,
    "#staff": false,
    "#student": true
   },
   "outputs": [],
   "source": [
    "# Calculation for b\n"
   ]
  },
  {
   "cell_type": "markdown",
   "metadata": {
    "#question": false,
    "#solution": false,
    "#staff": false,
    "#student": false
   },
   "source": [
    "\\newpage"
   ]
  },
  {
   "cell_type": "markdown",
   "metadata": {
    "#question": false,
    "#solution": false,
    "#staff": false,
    "#student": false
   },
   "source": [
    "## 3. Quick Expectations\n",
    "\n",
    "In each part below, provide the numerical value of the expectation and explain your answer.\n",
    "\n",
    "**a)** In Exercise 2 of Homework 3, you found the distribution of the label seen on the first roll of a tetrahedron, as well as the number of times a tetrahedron is rolled till a face reappears. The random variables were called $X$ and $D$, respectively. Go back and look at that exercise and then find $E(X)$ and $E(D)$.\n",
    "\n",
    "**b)** In City A, the number of traffic accidents on a given day has the Poisson $(4.8)$ distribution. Independently, the number of traffic accidents on that day in City B has the Poisson $(6.1)$ distribution. Let $Y$ be the total number of traffic accidents on that day in the two cities. Find $E(Y)$."
   ]
  },
  {
   "cell_type": "markdown",
   "metadata": {
    "#question": false,
    "#solution": false,
    "#staff": false,
    "#student": false
   },
   "source": [
    "\\newpage"
   ]
  },
  {
   "cell_type": "markdown",
   "metadata": {
    "#question": false,
    "#solution": false,
    "#staff": false,
    "#student": true
   },
   "source": [
    "## Submission Instructions ##\n",
    "\n",
    "Please follow the directions below to properly submit your homework.\n",
    "\n",
    "### Written Work ###\n",
    "*  Scan all the pages into a PDF. You can use any scanner or a phone using applications such as CamScanner. Please **DO NOT** simply take pictures using your phone. \n",
    "* **Please start a new page for each question.** If you have already written multiple questions on the same page, you can crop the image in CamScanner or fold your page over (the old-fashioned way). This helps expedite grading.\n",
    "* It is your responsibility to check that all the work on all the scanned pages is legible.\n",
    "    \n",
    "### Submitting ###\n",
    "* Submit the assignment to Homework 5 on Gradescope. \n",
    "* **Make sure to assign each page of your pdf to the correct question.**\n",
    "* **It is your responsibility to verify that all of your work shows up in your final PDF submission.**\n",
    "\n",
    "If you have questions about scanning or uploading your work, please post a follow-up to the Ed thread on [Gradescope Assignment Submission](https://edstem.org/us/courses/74395/discussion/6006634)."
   ]
  }
 ],
 "metadata": {
  "checksums": [
   "fd2d44350155cd17cdaa06103cd63adb",
   "d81c015fe17ef0f91b778d7089110778",
   "9667c95071c555ae26b0bae97095ac02",
   "4d58e9399ac7e4395bf8cfdaf0f59547",
   "ec709731364ba0561ae7d9f7a9b29e79",
   "f31460127aaa5993590a4ba6982ef49f",
   "774fa6d99dc1ddf4feeb0892230d476b",
   "562505d567faf02dfc9388e81e89d07b",
   "18dcca4257b1686babede45a3789ef90",
   "9140c692403059f49a1e15639b3f7d06",
   "562505d567faf02dfc9388e81e89d07b",
   "14aa67f532df7e2c7068225ed2a595f8",
   "562505d567faf02dfc9388e81e89d07b",
   "67cb49c823766f459f940f54909f1895"
  ],
  "kernelspec": {
   "display_name": "Python 3",
   "language": "python",
   "name": "python3"
  },
  "language_info": {
   "codemirror_mode": {
    "name": "ipython",
    "version": 3
   },
   "file_extension": ".py",
   "mimetype": "text/x-python",
   "name": "python",
   "nbconvert_exporter": "python",
   "pygments_lexer": "ipython3",
   "version": "3.7.11"
  },
  "number_of_pagebreaks": 0
 },
 "nbformat": 4,
 "nbformat_minor": 4
}
