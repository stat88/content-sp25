{
 "cells": [
  {
   "cell_type": "markdown",
   "metadata": {
    "#question": false,
    "#solution": false,
    "#staff": false,
    "#student": false
   },
   "source": [
    "<table align=\"left\" style=\"border-style: hidden\" class=\"table\"> <tr><td class=\"col-md-2\"><img style=\"float\" src=\"../logo.png\" alt=\"Data 88S Logo\" style=\"width: 120px;\"/></td><td><div align=\"left\"><h3 style=\"margin-top: 0;\">Probability for Data Science</h3><h4 style=\"margin-top: 20px;\">UC Berkeley, Spring 2025</h4><p>Michael Xiao</p>CC BY-NC 4.0</div></td></tr></table><!-- not in pdf -->\n",
    "\n",
    "This content is protected and may not be shared, uploaded, or distributed."
   ]
  },
  {
   "cell_type": "code",
   "execution_count": null,
   "metadata": {
    "#question": false,
    "#solution": false,
    "#staff": false,
    "#student": false
   },
   "outputs": [],
   "source": [
    "from datascience import *\n",
    "import numpy as np\n",
    "from scipy import stats"
   ]
  },
  {
   "cell_type": "markdown",
   "metadata": {
    "#question": false,
    "#solution": false,
    "#staff": false,
    "#student": false
   },
   "source": [
    "# Homework 12 (due Tuesday, May 6th at 5 PM)"
   ]
  },
  {
   "cell_type": "markdown",
   "metadata": {
    "#question": false,
    "#solution": false,
    "#staff": false,
    "#student": true
   },
   "source": [
    "### Instructions\n",
    "\n",
    "In all Data 88S homework, you will be providing written answers, not code. We encourage you to hand-write your answers. It is your responsibility to ensure that the homework is submitted completely and properly to Gradescope. **Make sure to assign each page of your pdf to the correct question. Refer to the bottom of the notebook for submission instructions.**"
   ]
  },
  {
   "cell_type": "markdown",
   "metadata": {
    "#question": false,
    "#solution": false,
    "#staff": false,
    "#student": true
   },
   "source": [
    "### Rules for Homework ###\n",
    "- Show your work. Give reasoning. The question isn't always going to ask for it, because we assume that you will provide justification for your answers. **If you don't supply reasoning, you won't get full credit.**\n",
    "- Every answer should contain a calculation, reasoning, or diagrams that are clearly labeled to show what's going on. For example, a calculation such as $(1/3)0.8 + (2/3)0.7$ or ```sum([(1/3)*0.8, (2/3)*0.7])``` is fine without further explanation or simplification. If we want you to simplify, we'll ask you to. But just $\\binom{5}{2}$ by itself is not fine; write \"we want any 2 out of the 5 frogs and they can appear in any order\" or whatever reasoning you used. Reasoning can be brief and abbreviated, e.g. \"product rule\" or \"not mutually exclusive.\"\n",
    "- You may consult others (see \"How to Do Your Homework\" above) but you must write up your own answers using your own words, notation, and sequence of steps.\n",
    "- We'll be using Gradescope. You must submit the homework according to the instructions at the end of homework set.\n",
    "\n",
    "## **We will not grade assignments which do not have pages correctly selected for each question.** ##"
   ]
  },
  {
   "cell_type": "markdown",
   "metadata": {
    "#question": false,
    "#solution": false,
    "#staff": false,
    "#student": false
   },
   "source": [
    "## 1. Sibling Birthweights\n",
    "\n",
    "In a randomly picked two-child family, let $X$ be the birth weight of the first-born child and $Y$ be the birth weight of the second-born child. You can assume that there is a first-born and second-born even if the children are twins.\n",
    "\n",
    "Assume $\\mu_X = \\mu_Y$ and $\\sigma_X = \\sigma_Y$, and suppose $r(X, Y) = 0.5$.\n",
    "\n",
    "Pick the **right option or options** below. If you pick the second option, fill in the blank with a decimal value not involving the means and SDs provided above.\n",
    "\n",
    "Given that the birth weight of the first-born child is 4 ounces above average, the regression estimate of the birth weight of the second-born child\n",
    "\n",
    "- (i) is above average.\n",
    "\n",
    "- (ii) is _______ ounces above average.\n",
    "\n",
    "- (iii) cannot be compared to the average based on the information given."
   ]
  },
  {
   "cell_type": "markdown",
   "metadata": {
    "#question": false,
    "#solution": false,
    "#staff": false,
    "#student": false
   },
   "source": [
    "\\newpage"
   ]
  },
  {
   "cell_type": "markdown",
   "metadata": {
    "#question": false,
    "#solution": false,
    "#staff": false,
    "#student": false
   },
   "source": [
    "## 2. Predicting Scores\n",
    "\n",
    "Each student in a large class takes a midterm and a final. The midterm scores have an average of 60 and an SD of 20. The final exam scores have an average of 70 and an SD of 10. The scatter plot of the midterm and final scores is not football shaped. The variables are positively correlated and the scatter plot is slightly curved.\n",
    "\n",
    "For a randomly picked student, let $X$ be the midterm score and $Y$ the final score.\n",
    "\n",
    "**a)** Pick the correct option to complete the sentence.\n",
    "\n",
    "Given that $X=90$, the regression estimate of $Y$ is\n",
    "\n",
    "- (i) less than 70.\n",
    "- (ii) equal to 70.\n",
    "- (iii) more than 70.\n",
    "- (iv) impossible to compare to 65 with the information given.\n",
    "\n",
    "**b)** Pick the correct option to complete the sentence.\n",
    "\n",
    "Given that $X=90$, the regression estimate of $Y$ is\n",
    "\n",
    "- (i) less than 85.\n",
    "- (ii) equal to 85.\n",
    "- (iii) more than 85.\n",
    "- (iv) impossible to compare to 85 with the information given."
   ]
  },
  {
   "cell_type": "markdown",
   "metadata": {
    "#question": false,
    "#solution": false,
    "#staff": false,
    "#student": false
   },
   "source": [
    "\\newpage"
   ]
  },
  {
   "cell_type": "markdown",
   "metadata": {
    "#question": false,
    "#solution": false,
    "#staff": false,
    "#student": false
   },
   "source": [
    "## 3. Cockatoo Eggs\n",
    "Let $X$ be the length and $Y$ the weight of a randomly picked cockatoo egg. We are given that \n",
    "\n",
    "- $\\mu_X =  5$ centimeters, \n",
    "- $\\sigma_X = 0.25$ centimeters, \n",
    "- $\\mu_Y = 33$ grams, \n",
    "- $\\sigma_Y = 3.5$ grams, and \n",
    "- $r(X, Y) = 0.75$.\n",
    "\n",
    "Let $\\hat{Y}$ be the regression estimate of $Y$ based on $X$.\n",
    "\n",
    "**a)** Find the decimal values of $a$ and $b$ which make the following statement true.\n",
    "\n",
    "$\\hat{Y} = aX + b$.\n",
    "\n",
    "**b)** Pick the correct statement below.\n",
    "\n",
    "- (i) The slope of the line in Part **a** is a pure number with no units.\n",
    "- (ii) The units of the slope of the line in Part **a** are grams per centimeter.\n",
    "- (iii) The units of the slope of the line in Part **a** are centimeters per gram.\n",
    "\n",
    "**c)** Fill in the blank with a decimal value:\n",
    "\n",
    "With chance at least 90%, the estimate $\\hat{Y}$ is correct to within _______ grams."
   ]
  },
  {
   "cell_type": "markdown",
   "metadata": {
    "#question": false,
    "#solution": false,
    "#staff": false,
    "#student": false
   },
   "source": [
    "\\newpage"
   ]
  },
  {
   "cell_type": "markdown",
   "metadata": {
    "#question": false,
    "#solution": false,
    "#staff": false,
    "#student": false
   },
   "source": [
    "## 4. Correlation and Linear Functions\n",
    "\n",
    "Let $(X, Y)$ be a random point and let $r(X, Y) = 0.8$ be the correlation between $X$ and $Y$. Let $\\hat{Y}$ be the regression estimate of $Y$ based on $X$, and let $D = Y - \\hat{Y}$ be the residual.\n",
    "\n",
    "In each part below, pick the right option from the two below and enter a decimal value if you choose the first option. The notation $r(S, T)$ means the correlation between random variables $S$ and $T$.\n",
    "\n",
    "- (i) is equal to __________________________.\n",
    "- (ii) cannot be calculated based on the information given.\n",
    "\n",
    "**a)** $r(X, 2X-5)$\n",
    "\n",
    "**b)** $r(Y, 2X-5)$\n",
    "\n",
    "**c)** $r(X, \\hat{Y})$\n",
    "\n",
    "**d)** $r(Y, \\hat{Y})$\n",
    "\n",
    "**e)** $r(X, D)$\n",
    "\n",
    "**f)** $r(\\hat{Y}, D)$"
   ]
  },
  {
   "cell_type": "markdown",
   "metadata": {
    "#question": false,
    "#solution": false,
    "#staff": false,
    "#student": false
   },
   "source": [
    "\\newpage"
   ]
  },
  {
   "cell_type": "markdown",
   "metadata": {
    "#question": false,
    "#solution": false,
    "#staff": false,
    "#student": true
   },
   "source": [
    "## Submission Instructions ##\n",
    "\n",
    "Please follow the directions below to properly submit your homework.\n",
    "\n",
    "### Written Work ###\n",
    "*  Scan all the pages into a PDF. You can use any scanner or a phone using applications such as CamScanner. Please **DO NOT** simply take pictures using your phone. \n",
    "* **Please start a new page for each question.** If you have already written multiple questions on the same page, you can crop the image in CamScanner or fold your page over (the old-fashioned way). This helps expedite grading.\n",
    "* It is your responsibility to check that all the work on all the scanned pages is legible.\n",
    "    \n",
    "### Submitting ###\n",
    "* Submit the assignment to Homework 12 on Gradescope. \n",
    "* **Make sure to assign each page of your pdf to the correct question.**\n",
    "* **It is your responsibility to verify that all of your work shows up in your final PDF submission.**\n",
    "\n",
    "If you have questions about scanning or uploading your work, please post a follow-up to the Ed thread on [Gradescope Assignment Submission](https://edstem.org/us/courses/74395/discussion/6006634)."
   ]
  }
 ],
 "metadata": {
  "checksums": [
   "fd2d44350155cd17cdaa06103cd63adb",
   "d81c015fe17ef0f91b778d7089110778",
   "a658b2f69b3cac912c0d02d6aa35c4c8",
   "4d58e9399ac7e4395bf8cfdaf0f59547",
   "ec709731364ba0561ae7d9f7a9b29e79",
   "d83e2fa33f8d36494f7429cde7c29326",
   "562505d567faf02dfc9388e81e89d07b",
   "5069ca763e0aec9eb6682622ca41573b",
   "562505d567faf02dfc9388e81e89d07b",
   "f88d738e19f6e1480edba0805a031014",
   "562505d567faf02dfc9388e81e89d07b",
   "a3798950b1ae914becc3c2fd81154cf7",
   "562505d567faf02dfc9388e81e89d07b",
   "c3b4e7005ed2648a2c96204046ce38e0"
  ],
  "kernelspec": {
   "display_name": "base",
   "language": "python",
   "name": "python3"
  },
  "language_info": {
   "codemirror_mode": {
    "name": "ipython",
    "version": 3
   },
   "file_extension": ".py",
   "mimetype": "text/x-python",
   "name": "python",
   "nbconvert_exporter": "python",
   "pygments_lexer": "ipython3",
   "version": "3.8.8"
  },
  "number_of_pagebreaks": 0
 },
 "nbformat": 4,
 "nbformat_minor": 4
}
