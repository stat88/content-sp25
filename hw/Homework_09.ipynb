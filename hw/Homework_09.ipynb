{
 "cells": [
  {
   "cell_type": "markdown",
   "metadata": {
    "#question": false,
    "#solution": false,
    "#staff": false,
    "#student": false
   },
   "source": [
    "<table align=\"left\" style=\"border-style: hidden\" class=\"table\"> <tr><td class=\"col-md-2\"><img style=\"float\" src=\"../logo.png\" alt=\"Data 88S Logo\" style=\"width: 120px;\"/></td><td><div align=\"left\"><h3 style=\"margin-top: 0;\">Probability for Data Science</h3><h4 style=\"margin-top: 20px;\">UC Berkeley, Spring 2025</h4><p>Michael Xiao</p>CC BY-NC 4.0</div></td></tr></table><!-- not in pdf -->\n",
    "\n",
    "This content is protected and may not be shared, uploaded, or distributed."
   ]
  },
  {
   "cell_type": "code",
   "execution_count": null,
   "metadata": {
    "#question": false,
    "#solution": false,
    "#staff": false,
    "#student": false
   },
   "outputs": [],
   "source": [
    "from datascience import *\n",
    "import numpy as np\n",
    "from scipy import stats"
   ]
  },
  {
   "cell_type": "markdown",
   "metadata": {
    "#question": false,
    "#solution": false,
    "#staff": false,
    "#student": false
   },
   "source": [
    "# Homework 9 (due Tuesday, April 8th at 5 PM)"
   ]
  },
  {
   "cell_type": "markdown",
   "metadata": {
    "#question": false,
    "#solution": false,
    "#staff": false,
    "#student": true
   },
   "source": [
    "### Instructions\n",
    "\n",
    "In all Data 88S homework, you will be providing written answers, not code. We encourage you to hand-write your answers. It is your responsibility to ensure that the homework is submitted completely and properly to Gradescope. **Make sure to assign each page of your pdf to the correct question. Refer to the bottom of the notebook for submission instructions.**"
   ]
  },
  {
   "cell_type": "markdown",
   "metadata": {
    "#question": false,
    "#solution": false,
    "#staff": false,
    "#student": true
   },
   "source": [
    "### Rules for Homework ###\n",
    "- Show your work. Give reasoning. The question isn't always going to ask for it, because we assume that you will provide justification for your answers. **If you don't supply reasoning, you won't get full credit.**\n",
    "- Every answer should contain a calculation, reasoning, or diagrams that are clearly labeled to show what's going on. For example, a calculation such as $(1/3)0.8 + (2/3)0.7$ or ```sum([(1/3)*0.8, (2/3)*0.7])``` is fine without further explanation or simplification. If we want you to simplify, we'll ask you to. But just $\\binom{5}{2}$ by itself is not fine; write \"we want any 2 out of the 5 frogs and they can appear in any order\" or whatever reasoning you used. Reasoning can be brief and abbreviated, e.g. \"product rule\" or \"not mutually exclusive.\"\n",
    "- You may consult others (see \"How to Do Your Homework\" above) but you must write up your own answers using your own words, notation, and sequence of steps.\n",
    "- We'll be using Gradescope. You must submit the homework according to the instructions at the end of homework set.\n",
    "\n",
    "## **We will not grade assignments which do not have pages correctly selected for each question.** ##"
   ]
  },
  {
   "cell_type": "markdown",
   "metadata": {
    "#question": false,
    "#solution": false,
    "#staff": false,
    "#student": false
   },
   "source": [
    "## 1. Sum and Average ##\n",
    "\n",
    "**a)** A stadium designer has placed 900 seats in one section of the stadium. Assume that the weights of people who will occupy those seats are i.i.d. with a mean of 160 pounds and an SD of 25 pounds. \n",
    "\n",
    "Fill in the blanks with numbers and show your calculation: With chance about 99%, the total weight of people in the 900 seats will be in the range $\\underline{~~~~~~~~~~~~~~~~~~~~~} \\pm \\underline{~~~~~~~~~~~~~~~~~~~~~}$ pounds.\n",
    "\n",
    "You can use the code cell below to get the numerical values."
   ]
  },
  {
   "cell_type": "code",
   "execution_count": null,
   "metadata": {
    "#question": false,
    "#solution": false,
    "#staff": false,
    "#student": true
   },
   "outputs": [],
   "source": [
    "# Calculations for a\n"
   ]
  },
  {
   "cell_type": "markdown",
   "metadata": {
    "#question": false,
    "#solution": false,
    "#staff": false,
    "#student": false
   },
   "source": [
    "**b)** A state has millions of households. The average annual income of the households is 78,000 dollars and the SD is 40,000 dollars. \n",
    "\n",
    "Fill in the blank with a number and show your calculation:\n",
    "\n",
    "There is about a 95% chance that the average annual income of a simple random sample of 625 families drawn from is state is more than $\\underline{~~~~~~~~~~~~~~~~~~~~}$ dollars.\n",
    "\n",
    "You can use the code cell below to get the numerical values."
   ]
  },
  {
   "cell_type": "code",
   "execution_count": null,
   "metadata": {
    "#question": false,
    "#solution": false,
    "#staff": false,
    "#student": true
   },
   "outputs": [],
   "source": [
    "# Calculations for b\n"
   ]
  },
  {
   "cell_type": "markdown",
   "metadata": {
    "#question": false,
    "#solution": false,
    "#staff": false,
    "#student": false
   },
   "source": [
    "\\newpage"
   ]
  },
  {
   "cell_type": "markdown",
   "metadata": {
    "#question": false,
    "#solution": false,
    "#staff": false,
    "#student": false
   },
   "source": [
    "## 2. Phone Calls ##\n",
    "\n",
    "The lengths of phone calls to the receptionist of a small company are i.i.d. with a mean of 5 minutes and an SD of 8 minutes.\n",
    "\n",
    "**a)** Find or approximate the chance that the total length of the next 250 calls is less than 20 hours.\n",
    "\n",
    "**b)** Suppose you draw a histogram of the lengths of the next 250 calls. Is the histogram likely to look roughly normal? Why or why not?\n",
    "\n",
    "**c)** Did you use the normal curve in your calculation in **a**? If so, which of the following did the curve approximate and why? Pick one and explain.\n",
    "\n",
    "- the distribution of the lengths of the next 250 calls\n",
    "- the probability distribution of the total length of the next 250 calls\n",
    "- the probability distribution of the total length of the next $n$ calls as $n$ gets larger and larger"
   ]
  },
  {
   "cell_type": "code",
   "execution_count": null,
   "metadata": {
    "#question": false,
    "#solution": false,
    "#staff": false,
    "#student": true
   },
   "outputs": [],
   "source": [
    "# Calculations for a\n"
   ]
  },
  {
   "cell_type": "markdown",
   "metadata": {
    "#question": false,
    "#solution": false,
    "#staff": false,
    "#student": false
   },
   "source": [
    "\\newpage"
   ]
  },
  {
   "cell_type": "markdown",
   "metadata": {
    "#question": false,
    "#solution": false,
    "#staff": false,
    "#student": false
   },
   "source": [
    "## 3. Ages ##\n",
    "\n",
    "In a simple random sample of size 400 drawn from a population, the average age is 40 years and the SD is 20 years. Also, 18% of the people in the sample are senior citizens. \n",
    "\n",
    "As usual, for Parts **a** and **c**, show your work of how you constructed the confidence interval. Then provide a final numerical answer for the interval. You can use the code cell below.\n",
    "\n",
    "**a)** Construct an approximate 95% confidence interval for the average age of the people in the population.\n",
    "\n",
    "**b)** True or false (explain): The ages of approximately 95% of the population are in the interval you found in Part **a**.\n",
    "\n",
    "**c)** Construct an approximate 95% confidence interval for the **percent** (not the proportion) of senior citizens in the population."
   ]
  },
  {
   "cell_type": "code",
   "execution_count": null,
   "metadata": {
    "#question": false,
    "#solution": false,
    "#staff": false,
    "#student": true
   },
   "outputs": [],
   "source": [
    "# Calculations for a\n"
   ]
  },
  {
   "cell_type": "code",
   "execution_count": null,
   "metadata": {
    "#question": false,
    "#solution": false,
    "#staff": false,
    "#student": true
   },
   "outputs": [],
   "source": [
    "# Calculations for c\n"
   ]
  },
  {
   "cell_type": "markdown",
   "metadata": {
    "#question": false,
    "#solution": false,
    "#staff": false,
    "#student": false
   },
   "source": [
    "\\newpage"
   ]
  },
  {
   "cell_type": "markdown",
   "metadata": {
    "#question": false,
    "#solution": false,
    "#staff": false,
    "#student": true
   },
   "source": [
    "## Submission Instructions ##\n",
    "\n",
    "Please follow the directions below to properly submit your homework.\n",
    "\n",
    "### Written Work ###\n",
    "*  Scan all the pages into a PDF. You can use any scanner or a phone using applications such as CamScanner. Please **DO NOT** simply take pictures using your phone. \n",
    "* **Please start a new page for each question.** If you have already written multiple questions on the same page, you can crop the image in CamScanner or fold your page over (the old-fashioned way). This helps expedite grading.\n",
    "* It is your responsibility to check that all the work on all the scanned pages is legible.\n",
    "    \n",
    "### Submitting ###\n",
    "* Submit the assignment to Homework 9 on Gradescope. \n",
    "* **Make sure to assign each page of your pdf to the correct question.**\n",
    "* **It is your responsibility to verify that all of your work shows up in your final PDF submission.**\n",
    "\n",
    "If you have questions about scanning or uploading your work, please post a follow-up to the Ed thread on [Gradescope Assignment Submission](https://edstem.org/us/courses/74395/discussion/6006634)."
   ]
  }
 ],
 "metadata": {
  "checksums": [
   "fd2d44350155cd17cdaa06103cd63adb",
   "d81c015fe17ef0f91b778d7089110778",
   "5513072facf5ee4c6af2ca1674b73fa8",
   "4d58e9399ac7e4395bf8cfdaf0f59547",
   "ec709731364ba0561ae7d9f7a9b29e79",
   "3b3f9cf413e3ba9f2ad67b89f229bdab",
   "1525f38ffd3a7d1f8111338ce738fca0",
   "2b9060b9761efb89353553d452c1ac7b",
   "780aa6e871823bc7ab1b99e05c99ca6d",
   "562505d567faf02dfc9388e81e89d07b",
   "4eaffba372274f7ddc8b7ee866719f13",
   "1525f38ffd3a7d1f8111338ce738fca0",
   "562505d567faf02dfc9388e81e89d07b",
   "b985f7fa71582c4cf14580e6bf0252bc",
   "1525f38ffd3a7d1f8111338ce738fca0",
   "078cca0da4fee84917fed96c298fd5d8",
   "562505d567faf02dfc9388e81e89d07b",
   "b92450b1ef265016895f254f1ba6cd35"
  ],
  "kernelspec": {
   "display_name": "Python 3",
   "language": "python",
   "name": "python3"
  },
  "language_info": {
   "codemirror_mode": {
    "name": "ipython",
    "version": 3
   },
   "file_extension": ".py",
   "mimetype": "text/x-python",
   "name": "python",
   "nbconvert_exporter": "python",
   "pygments_lexer": "ipython3",
   "version": "3.7.11"
  },
  "number_of_pagebreaks": 0
 },
 "nbformat": 4,
 "nbformat_minor": 4
}
