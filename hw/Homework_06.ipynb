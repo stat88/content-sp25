{
 "cells": [
  {
   "cell_type": "markdown",
   "metadata": {
    "#question": false,
    "#solution": false,
    "#staff": false,
    "#student": false
   },
   "source": [
    "<table align=\"left\" style=\"border-style: hidden\" class=\"table\"> <tr><td class=\"col-md-2\"><img style=\"float\" src=\"../logo.png\" alt=\"Data 88S Logo\" style=\"width: 120px;\"/></td><td><div align=\"left\"><h3 style=\"margin-top: 0;\">Probability for Data Science</h3><h4 style=\"margin-top: 20px;\">UC Berkeley, Spring 2025</h4><p>Michael Xiao</p>CC BY-NC 4.0</div></td></tr></table><!-- not in pdf -->\n",
    "\n",
    "This content is protected and may not be shared, uploaded, or distributed."
   ]
  },
  {
   "cell_type": "code",
   "execution_count": null,
   "metadata": {
    "#question": false,
    "#solution": false,
    "#staff": false,
    "#student": false
   },
   "outputs": [],
   "source": [
    "from datascience import *\n",
    "import numpy as np\n",
    "from scipy import stats"
   ]
  },
  {
   "cell_type": "markdown",
   "metadata": {
    "#question": false,
    "#solution": false,
    "#staff": false,
    "#student": false
   },
   "source": [
    "# Homework 6 (due Tuesday, March 11th at 5 PM)"
   ]
  },
  {
   "cell_type": "markdown",
   "metadata": {
    "#question": false,
    "#solution": false,
    "#staff": false,
    "#student": true
   },
   "source": [
    "### Instructions\n",
    "\n",
    "In all Data 88S homework, you will be providing written answers, not code. We encourage you to hand-write your answers. It is your responsibility to ensure that the homework is submitted completely and properly to Gradescope. **Make sure to assign each page of your pdf to the correct question. Refer to the bottom of the notebook for submission instructions.**"
   ]
  },
  {
   "cell_type": "markdown",
   "metadata": {
    "#question": false,
    "#solution": false,
    "#staff": false,
    "#student": true
   },
   "source": [
    "### Rules for Homework ###\n",
    "- Show your work. Give reasoning. The question isn't always going to ask for it, because we assume that you will provide justification for your answers. **If you don't supply reasoning, you won't get full credit.**\n",
    "- Every answer should contain a calculation, reasoning, or diagrams that are clearly labeled to show what's going on. For example, a calculation such as $(1/3)0.8 + (2/3)0.7$ or ```sum([(1/3)*0.8, (2/3)*0.7])``` is fine without further explanation or simplification. If we want you to simplify, we'll ask you to. But just $\\binom{5}{2}$ by itself is not fine; write \"we want any 2 out of the 5 frogs and they can appear in any order\" or whatever reasoning you used. Reasoning can be brief and abbreviated, e.g. \"product rule\" or \"not mutually exclusive.\"\n",
    "- You may consult others (see \"How to Do Your Homework\" above) but you must write up your own answers using your own words, notation, and sequence of steps.\n",
    "- We'll be using Gradescope. You must submit the homework according to the instructions at the end of homework set.\n",
    "\n",
    "## **We will not grade assignments which do not have pages correctly selected for each question.** ##"
   ]
  },
  {
   "cell_type": "markdown",
   "metadata": {
    "#question": false,
    "#solution": false,
    "#staff": false,
    "#student": false
   },
   "source": [
    "## 1. Quick Expectations, Part 2\n",
    "\n",
    "In each part below, provide the numerical value of the expectation and explain your answer.\n",
    "\n",
    "**a)** In Exercise 2 of Homework 3, you found the distribution of the number of times a tetrahedron is rolled till a face reappears. The random variable was called $D$. Let $M$ be the minimum of $D$ and 3. For example, if $D = 5$ then $M = 3$. If $D = 2$ then $M = 2$. If $D = 3$ then $M = 3$. Find $E(M)$.\n",
    "\n",
    "**b)** I have a coin that lands heads with chance $\\frac{1}{4}$. I toss the coin $200$ times. My friend tosses a fair coin $500$ times. Find the expectation of the total number of heads in the $700$ tosses.\n",
    "\n",
    "**c)** A class of 200 students contains 50 sophomores. Find the expected number of sophomores in a simple random sample of 30 students drawn from the class."
   ]
  },
  {
   "cell_type": "markdown",
   "metadata": {
    "#question": false,
    "#solution": false,
    "#staff": false,
    "#student": false
   },
   "source": [
    "\\newpage"
   ]
  },
  {
   "cell_type": "markdown",
   "metadata": {
    "#question": true,
    "#solution": false,
    "#staff": false,
    "#student": false
   },
   "source": [
    "## 2. Bowl of Stickers\n",
    "\n",
    "A bowl contains 100 stickers, 88 of which are Data 88S stickers. Shahzar grabs a simple random sample of 20 stickers from the bowl. After Shahzar grabs his stickers, Salil grabs a simple random sample of 10 stickers from the bowl.\n",
    "\n",
    "**a)** Find the expected number of Data 88S stickers in Shahzar's stickers. Explain your answer.\n",
    "\n",
    "**b)** Find the expected number of Data 88S stickers in Salil's stickers. Explain your answer.\n",
    "\n",
    "**c)** Find the expected number of Data 88S stickers left in the bowl. Explain your answer."
   ]
  },
  {
   "cell_type": "markdown",
   "metadata": {
    "#question": false,
    "#solution": false,
    "#staff": false,
    "#student": false
   },
   "source": [
    "\\newpage"
   ]
  },
  {
   "cell_type": "markdown",
   "metadata": {
    "#question": false,
    "#solution": false,
    "#staff": false,
    "#student": false
   },
   "source": [
    "## 3. Ice Cream Truck ##\n",
    "\n",
    "An ice cream truck has ten different flavors of popsicles. Suppose $n$ customers each pick a flavor at random, independently of the choices of others. In each part below, find the expectation of the described random variable.\n",
    "\n",
    "**a)** the number of flavors that are not picked\n",
    "\n",
    "**b)** the number of flavors that are picked\n",
    "\n",
    "**c)** the number of flavors that are picked by more than one customer"
   ]
  },
  {
   "cell_type": "markdown",
   "metadata": {
    "#question": false,
    "#solution": false,
    "#staff": false,
    "#student": false
   },
   "source": [
    "\\newpage"
   ]
  },
  {
   "cell_type": "markdown",
   "metadata": {
    "#question": false,
    "#solution": false,
    "#staff": false,
    "#student": false
   },
   "source": [
    "## 4. Randomized Response ##\n",
    "Survey respondents understandably don't like to answer questions about sensitive topics such as illegal drug use. If data scientists want to estimate the proportion of illegal drug users in a population, they have to devise methods of getting the information they need while maintaining the privacy of the individual respondents.\n",
    "\n",
    "*Randomized response* schemes are often used in such situations. In one such scheme, each surveyed person is given a coin and asked to answer YES or NO after following these instructions out of sight of the surveyor:\n",
    "\n",
    "- Toss the coin.\n",
    "    - If it lands heads, then truthfully answer, \"Do you use illegal drugs?\"\n",
    "    - If it lands tails, then toss it again and answer, \"Did the second toss land heads?\"\n",
    "\n",
    "This way each respondent answers YES or NO but the surveyor doesn't know which question was answered. The data scientists then have to estimate the proportion of illegal drug users based on the overall proportion of YES answers, which includes the YES answers to the second question.\n",
    "\n",
    "Let the unknown proportion of illegal drug users in a large population be $p$, and suppose a random sample of size $n$ is surveyed using the scheme above. You can assume that the sampling is equivalent to drawing at random with replacement.\n",
    "\n",
    "**a)** Let $X$ be the proportion of sampled people who answer YES. Find $E(X)$.\n",
    "\n",
    "**b)** Use $X$ to construct an unbiased estimator of $p$.\n",
    "\n",
    "**c)** Suppose $n = 10$ and the results of the randomized response survey are as follows:\n",
    "\n",
    "$$\\text{NO} \\qquad \\text{YES} \\qquad \\text{NO} \\qquad \\text{NO} \\qquad \\text{NO} \\qquad \\text{NO} \\qquad \\text{YES} \\qquad \\text{NO} \\qquad \\text{YES} \\qquad \\text{NO}.$$\n",
    "\n",
    "Calculate the value of your unbiased estimator of $p$ for this sample."
   ]
  },
  {
   "cell_type": "markdown",
   "metadata": {
    "#question": false,
    "#solution": false,
    "#staff": false,
    "#student": false
   },
   "source": [
    "\\newpage"
   ]
  },
  {
   "cell_type": "markdown",
   "metadata": {
    "#question": false,
    "#solution": false,
    "#staff": false,
    "#student": true
   },
   "source": [
    "## Submission Instructions ##\n",
    "\n",
    "Please follow the directions below to properly submit your homework.\n",
    "\n",
    "### Written Work ###\n",
    "*  Scan all the pages into a PDF. You can use any scanner or a phone using applications such as CamScanner. Please **DO NOT** simply take pictures using your phone. \n",
    "* **Please start a new page for each question.** If you have already written multiple questions on the same page, you can crop the image in CamScanner or fold your page over (the old-fashioned way). This helps expedite grading.\n",
    "* It is your responsibility to check that all the work on all the scanned pages is legible.\n",
    "    \n",
    "### Submitting ###\n",
    "* Submit the assignment to Homework 6 on Gradescope. \n",
    "* **Make sure to assign each page of your pdf to the correct question.**\n",
    "* **It is your responsibility to verify that all of your work shows up in your final PDF submission.**\n",
    "\n",
    "If you have questions about scanning or uploading your work, please post a follow-up to the Ed thread on [Gradescope Assignment Submission](https://edstem.org/us/courses/74395/discussion/6006634)."
   ]
  }
 ],
 "metadata": {
  "checksums": [
   "fd2d44350155cd17cdaa06103cd63adb",
   "d81c015fe17ef0f91b778d7089110778",
   "7646e112550dec3743e001828d32a778",
   "4d58e9399ac7e4395bf8cfdaf0f59547",
   "ec709731364ba0561ae7d9f7a9b29e79",
   "481fbe79fbd71d87770e90e8dc9784e1",
   "562505d567faf02dfc9388e81e89d07b",
   "bf1627fb3102306afa3ee52b01b8ecb1",
   "562505d567faf02dfc9388e81e89d07b",
   "65148d65ac06b809470ad26d89d860b8",
   "562505d567faf02dfc9388e81e89d07b",
   "db17015f6449589e148d162f79cbb6f2",
   "562505d567faf02dfc9388e81e89d07b",
   "74f240b1fdada223904b6796a154f0a6"
  ],
  "kernelspec": {
   "display_name": "Python 3",
   "language": "python",
   "name": "python3"
  },
  "language_info": {
   "codemirror_mode": {
    "name": "ipython",
    "version": 3
   },
   "file_extension": ".py",
   "mimetype": "text/x-python",
   "name": "python",
   "nbconvert_exporter": "python",
   "pygments_lexer": "ipython3",
   "version": "3.7.11"
  },
  "number_of_pagebreaks": 0
 },
 "nbformat": 4,
 "nbformat_minor": 4
}
