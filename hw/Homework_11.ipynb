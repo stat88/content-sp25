{
 "cells": [
  {
   "cell_type": "markdown",
   "metadata": {
    "#question": false,
    "#solution": false,
    "#staff": false,
    "#student": false
   },
   "source": [
    "<table align=\"left\" style=\"border-style: hidden\" class=\"table\"> <tr><td class=\"col-md-2\"><img style=\"float\" src=\"../logo.png\" alt=\"Data 88S Logo\" style=\"width: 120px;\"/></td><td><div align=\"left\"><h3 style=\"margin-top: 0;\">Probability for Data Science</h3><h4 style=\"margin-top: 20px;\">UC Berkeley, Spring 2025</h4><p>Michael Xiao</p>CC BY-NC 4.0</div></td></tr></table><!-- not in pdf -->\n",
    "\n",
    "This content is protected and may not be shared, uploaded, or distributed."
   ]
  },
  {
   "cell_type": "code",
   "execution_count": null,
   "metadata": {
    "#question": false,
    "#solution": false,
    "#staff": false,
    "#student": false
   },
   "outputs": [],
   "source": [
    "from datascience import *\n",
    "import numpy as np\n",
    "from scipy import stats"
   ]
  },
  {
   "cell_type": "markdown",
   "metadata": {
    "#question": false,
    "#solution": false,
    "#staff": false,
    "#student": false
   },
   "source": [
    "# Homework 11 (due Tuesday, April 29th at 5 PM)"
   ]
  },
  {
   "cell_type": "markdown",
   "metadata": {
    "#question": false,
    "#solution": false,
    "#staff": false,
    "#student": true
   },
   "source": [
    "### Instructions\n",
    "\n",
    "In all Data 88S homework, you will be providing written answers, not code. We encourage you to hand-write your answers. It is your responsibility to ensure that the homework is submitted completely and properly to Gradescope. **Make sure to assign each page of your pdf to the correct question. Refer to the bottom of the notebook for submission instructions.**"
   ]
  },
  {
   "cell_type": "markdown",
   "metadata": {
    "#question": false,
    "#solution": false,
    "#staff": false,
    "#student": true
   },
   "source": [
    "### Rules for Homework ###\n",
    "- Show your work. Give reasoning. The question isn't always going to ask for it, because we assume that you will provide justification for your answers. **If you don't supply reasoning, you won't get full credit.**\n",
    "- Every answer should contain a calculation, reasoning, or diagrams that are clearly labeled to show what's going on. For example, a calculation such as $(1/3)0.8 + (2/3)0.7$ or ```sum([(1/3)*0.8, (2/3)*0.7])``` is fine without further explanation or simplification. If we want you to simplify, we'll ask you to. But just $\\binom{5}{2}$ by itself is not fine; write \"we want any 2 out of the 5 frogs and they can appear in any order\" or whatever reasoning you used. Reasoning can be brief and abbreviated, e.g. \"product rule\" or \"not mutually exclusive.\"\n",
    "- You may consult others (see \"How to Do Your Homework\" above) but you must write up your own answers using your own words, notation, and sequence of steps.\n",
    "- We'll be using Gradescope. You must submit the homework according to the instructions at the end of homework set.\n",
    "\n",
    "## **We will not grade assignments which do not have pages correctly selected for each question.** ##"
   ]
  },
  {
   "cell_type": "markdown",
   "metadata": {
    "#question": false,
    "#solution": false,
    "#staff": false,
    "#student": false
   },
   "source": [
    "## 1. California Earthquakes ##\n",
    "\n",
    "California is prone to earthquakes, and geostatisticians use probabilistic models to try to understand them. In this exercise, \"earthquake\" will mean an earthquake of magnitude 4.9 or greater on the Richter scale. The figure below shows the distribution of the gaps in time (measured in days) between earthquakes in California during the years 1857 to 2014. The red curve is an exponential density.\n",
    "\n",
    "![earthquake gaps](hw11_q1_plot.png)\n",
    "\n",
    "You can see why it is tempting to use an exponential model for the gaps. You can also see that it's an over-simplifcation. But it's a start. \n",
    "\n",
    "Suppose the time between two earthquakes has the exponential distribution with mean 1100 days.\n",
    "\n",
    "**a)** Find the chance that an earthquake happens within a year after the previous one. Ignore leap years; just use 365 for the number of days in a year. You are using a simplified model for data, so your answers will be rough anyway.\n",
    "\n",
    "**b)** Fill in the blank with a number:\n",
    "\n",
    "There is a 50% chance that an earthquake happens less than $\\underline{~~~~~~~~~~~~~~~}$ days after the previous one.\n",
    "\n",
    "**c)** Let $T$ be the time between two earthquakes, measured in days. Now let $X$ be $T$ measured in years, using 365 days as the length of a year. Write the relation between $T$ and $X$, and then find $P(X \\le x \\text{ years})$ for $x > 0$.\n",
    "\n",
    "**d)** Use Part **c** to identify the distribution of $X$. Provide its name, the parameter or parameters, and the expectation."
   ]
  },
  {
   "cell_type": "markdown",
   "metadata": {
    "#question": false,
    "#solution": false,
    "#staff": false,
    "#student": false
   },
   "source": [
    "\\newpage"
   ]
  },
  {
   "cell_type": "markdown",
   "metadata": {
    "#question": false,
    "#solution": false,
    "#staff": false,
    "#student": false
   },
   "source": [
    "## 2. Walking to Class ##\n",
    "\n",
    "Alana, Cynthia, and Sage all plan to walk to their probability class from each of their homes. Let $T_1$ be the duration (in minutes) of Alana's walk, $T_2$ be the duration of Cynthia's walk, and $T_3$ be the duration of Sage's walk. The durations of the three students’ walks are independent of each other. The density of $T_1$ is given by\n",
    "\n",
    "$$f_{T_1}(t) = \\begin{cases} 0 & t \\le 1\\\\ \\frac{5}{t^6} & t > 1.\\end{cases}$$\n",
    "\n",
    "**a)** Find $E(T_1)$.\n",
    "\n",
    "**b)** Find $Var(T_1)$.\n",
    "\n",
    "**c)** $T_2$ is normally distributed with a mean of 21 minutes and SD of 3 minutes. $T_3$ is normally distributed with a mean of 20 minutes and SD of 4 minutes. What is the chance that the time Cynthia's walk takes is shorter than Sage's walk?"
   ]
  },
  {
   "cell_type": "code",
   "execution_count": null,
   "metadata": {
    "#question": false,
    "#solution": false,
    "#staff": false,
    "#student": true
   },
   "outputs": [],
   "source": [
    "# Calculations in part c\n",
    "\n"
   ]
  },
  {
   "cell_type": "markdown",
   "metadata": {
    "#question": false,
    "#solution": false,
    "#staff": false,
    "#student": false
   },
   "source": [
    "\\newpage"
   ]
  },
  {
   "cell_type": "markdown",
   "metadata": {
    "#question": false,
    "#solution": false,
    "#staff": false,
    "#student": false
   },
   "source": [
    "## 3. College Graduates in Seattle and SF ##\n",
    "\n",
    "In a simple random sample of 400 people taken in Seattle, 63% are college graduates. In an independent simple random sample of 600 people taken in San Francisco, 59% are college graduates.\n",
    "\n",
    "**a)** Is the proportion of college graduates different in the two cities, or is this just chance variation? Answer by performing a test of hypotheses at the 5% level. Your answer should include a null hypothesis in terms of random variables, an appropriate alternative hypothesis, a test statistic, a $p$-value, and a conclusion, along with justifications for all of these.\n",
    "\n",
    "For getting the numeric value of the $p$-value and other calculations, you can use the code cell below.\n",
    "\n",
    "**b)** Construct an approximate 95% confidence interval for the difference between the percents of college graduates in Seattle and San Francisco, where the difference is defined as the percent in Seattle minus the percent in SF).\n"
   ]
  },
  {
   "cell_type": "code",
   "execution_count": null,
   "metadata": {
    "#question": false,
    "#solution": false,
    "#staff": false,
    "#student": true
   },
   "outputs": [],
   "source": [
    "# Calculations in part a\n",
    "\n"
   ]
  },
  {
   "cell_type": "markdown",
   "metadata": {
    "#question": false,
    "#solution": false,
    "#staff": false,
    "#student": false
   },
   "source": [
    "\\newpage"
   ]
  },
  {
   "cell_type": "markdown",
   "metadata": {
    "#question": false,
    "#solution": false,
    "#staff": false,
    "#student": false
   },
   "source": [
    "## 4. Size of Error\n",
    "\n",
    "Data scientists often have to estimate the size of a random error. A simple model for a random error is that it is distributed uniformly on the interval $(-\\theta, \\theta)$ for some constant $\\theta > 0$.\n",
    "\n",
    "If $\\theta$ is unknown, data scientists might have to estimate it. Suppose they have just one data point $Y$ distributed uniformly on $(-\\theta, \\theta)$. Let's see how they can use it to estimate $\\theta$.\n",
    "\n",
    "**a)** The first step is to simplify the problem. Let $X = \\vert Y \\vert$. What are the possible values of $X$? For each possible value $x$, find $P(X > x)$. Identify the distribution of $X$ as one of the famous ones, and provide its name and parameters.\n",
    "\n",
    "**b)** To estimate $\\theta$, suppose the data scientists use the estimator $T_1 = X$. Find the bias of $T_1$ and also the variance of $T_1$.\n",
    "\n",
    "**c)** Use $T_1$ to construct an unbiased estimator of $\\theta$. Call this new estimator $T_2$. The good news is that it is unbiased by your construction. Now find $Var(T_2)$ and compare it with $Var(T_1)$ in Part **b**."
   ]
  },
  {
   "cell_type": "markdown",
   "metadata": {
    "#question": false,
    "#solution": false,
    "#staff": false,
    "#student": true
   },
   "source": [
    "## Submission Instructions ##\n",
    "\n",
    "Please follow the directions below to properly submit your homework.\n",
    "\n",
    "### Written Work ###\n",
    "*  Scan all the pages into a PDF. You can use any scanner or a phone using applications such as CamScanner. Please **DO NOT** simply take pictures using your phone. \n",
    "* **Please start a new page for each question.** If you have already written multiple questions on the same page, you can crop the image in CamScanner or fold your page over (the old-fashioned way). This helps expedite grading.\n",
    "* It is your responsibility to check that all the work on all the scanned pages is legible.\n",
    "    \n",
    "### Submitting ###\n",
    "* Submit the assignment to Homework 11 on Gradescope. \n",
    "* **Make sure to assign each page of your pdf to the correct question.**\n",
    "* **It is your responsibility to verify that all of your work shows up in your final PDF submission.**\n",
    "\n",
    "If you have questions about scanning or uploading your work, please post a follow-up to the Ed thread on [Gradescope Assignment Submission](https://edstem.org/us/courses/74395/discussion/6006634)."
   ]
  }
 ],
 "metadata": {
  "checksums": [
   "fd2d44350155cd17cdaa06103cd63adb",
   "d81c015fe17ef0f91b778d7089110778",
   "74d1618c5ea8e58f1c9f1a16400ebe35",
   "4d58e9399ac7e4395bf8cfdaf0f59547",
   "ec709731364ba0561ae7d9f7a9b29e79",
   "afb3e85ea0127d399a799d85bb29aae2",
   "562505d567faf02dfc9388e81e89d07b",
   "3548a01e6a3c066038b6a47f480cbfc0",
   "a7084a51a8bfe445a86c1472f90165bc",
   "562505d567faf02dfc9388e81e89d07b",
   "b12ca2d0c67ad5d727d0dcbabdfc1b71",
   "81af8da7f7a4df135ca2c0859e4cf35c",
   "562505d567faf02dfc9388e81e89d07b",
   "671d0a5e17cf5f0393f269709186c9f3",
   "dbc1d1622d9c3abef8b9f272191ef9b6"
  ],
  "kernelspec": {
   "display_name": "base",
   "language": "python",
   "name": "python3"
  },
  "language_info": {
   "codemirror_mode": {
    "name": "ipython",
    "version": 3
   },
   "file_extension": ".py",
   "mimetype": "text/x-python",
   "name": "python",
   "nbconvert_exporter": "python",
   "pygments_lexer": "ipython3",
   "version": "3.8.8"
  },
  "number_of_pagebreaks": 0
 },
 "nbformat": 4,
 "nbformat_minor": 4
}
