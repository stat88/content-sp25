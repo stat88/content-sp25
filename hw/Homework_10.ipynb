{
 "cells": [
  {
   "cell_type": "markdown",
   "metadata": {
    "#question": false,
    "#solution": false,
    "#staff": false,
    "#student": false
   },
   "source": [
    "<table align=\"left\" style=\"border-style: hidden\" class=\"table\"> <tr><td class=\"col-md-2\"><img style=\"float\" src=\"../logo.png\" alt=\"Data 88S Logo\" style=\"width: 120px;\"/></td><td><div align=\"left\"><h3 style=\"margin-top: 0;\">Probability for Data Science</h3><h4 style=\"margin-top: 20px;\">UC Berkeley, Spring 2025</h4><p>Michael Xiao</p>CC BY-NC 4.0</div></td></tr></table><!-- not in pdf -->\n",
    "\n",
    "This content is protected and may not be shared, uploaded, or distributed."
   ]
  },
  {
   "cell_type": "code",
   "execution_count": null,
   "metadata": {
    "#question": false,
    "#solution": false,
    "#staff": false,
    "#student": false
   },
   "outputs": [],
   "source": [
    "from datascience import *\n",
    "import numpy as np\n",
    "from scipy import stats"
   ]
  },
  {
   "cell_type": "markdown",
   "metadata": {
    "#question": false,
    "#solution": false,
    "#staff": false,
    "#student": false
   },
   "source": [
    "# Homework 10 (due Tuesday, April 22nd at 5 PM)"
   ]
  },
  {
   "cell_type": "markdown",
   "metadata": {
    "#question": false,
    "#solution": false,
    "#staff": false,
    "#student": true
   },
   "source": [
    "### Instructions\n",
    "\n",
    "In all Data 88S homework, you will be providing written answers, not code. We encourage you to hand-write your answers. It is your responsibility to ensure that the homework is submitted completely and properly to Gradescope. **Make sure to assign each page of your pdf to the correct question. Refer to the bottom of the notebook for submission instructions.**"
   ]
  },
  {
   "cell_type": "markdown",
   "metadata": {
    "#question": false,
    "#solution": false,
    "#staff": false,
    "#student": true
   },
   "source": [
    "### Rules for Homework ###\n",
    "- Show your work. Give reasoning. The question isn't always going to ask for it, because we assume that you will provide justification for your answers. **If you don't supply reasoning, you won't get full credit.**\n",
    "- Every answer should contain a calculation, reasoning, or diagrams that are clearly labeled to show what's going on. For example, a calculation such as $(1/3)0.8 + (2/3)0.7$ or ```sum([(1/3)*0.8, (2/3)*0.7])``` is fine without further explanation or simplification. If we want you to simplify, we'll ask you to. But just $\\binom{5}{2}$ by itself is not fine; write \"we want any 2 out of the 5 frogs and they can appear in any order\" or whatever reasoning you used. Reasoning can be brief and abbreviated, e.g. \"product rule\" or \"not mutually exclusive.\"\n",
    "- You may consult others (see \"How to Do Your Homework\" above) but you must write up your own answers using your own words, notation, and sequence of steps.\n",
    "- We'll be using Gradescope. You must submit the homework according to the instructions at the end of homework set.\n",
    "\n",
    "## **We will not grade assignments which do not have pages correctly selected for each question.** ##"
   ]
  },
  {
   "cell_type": "markdown",
   "metadata": {
    "#question": false,
    "#solution": false,
    "#staff": false,
    "#student": false
   },
   "source": [
    "## 1. Taste Test ##\n",
    "\n",
    "A student claims to be able to distinguish the taste of Cal Blue coffee from Cal Gold coffee, even though his friends say the two coffees are the same in appearance, aroma, and taste. The student agrees to take a blind taste test consisting of 10 trials as follows.\n",
    "\n",
    "On each trial, the student is given two identical unmarked cups (small ones!), one containing Cal Blue and the other containing Cal Gold. He is not told which is which. He has to drink the contents and say which one is Cal Blue.\n",
    "\n",
    "The student picks correctly on seven out of the 10 trials. He says that his friends now have to accept his claim. His friends say they will do no such thing because he could just have been guessing at random. \n",
    "\n",
    "Decide which position is better supported by the data, in the following steps.\n",
    "\n",
    "**a)** State an appropriate null hypothesis in non-technical terms and also as a set of assumptions about random variables.\n",
    "\n",
    "**b)** State an appropriate alternative hypothesis.\n",
    "\n",
    "**c)** What test statistic are you going to use? Justify your choice.\n",
    "\n",
    "**d)** Find an exact or approximate $p$-value, and then find its numerical value. You can use the code cell below.\n",
    "\n",
    "**e)** At the 5% level, what is the conlcusion of the test? Why?"
   ]
  },
  {
   "cell_type": "code",
   "execution_count": null,
   "metadata": {
    "#question": false,
    "#solution": false,
    "#staff": false,
    "#student": true
   },
   "outputs": [],
   "source": [
    "# For calculating the numerical value of your expression \n",
    "# for the p-value in e.\n",
    "\n",
    "..."
   ]
  },
  {
   "cell_type": "markdown",
   "metadata": {
    "#question": false,
    "#solution": false,
    "#staff": false,
    "#student": false
   },
   "source": [
    "\\newpage"
   ]
  },
  {
   "cell_type": "markdown",
   "metadata": {
    "#question": false,
    "#solution": false,
    "#staff": false,
    "#student": false
   },
   "source": [
    "## 2. Reading Test ##\n",
    "\n",
    "In 2017, the average reading score of the fourth graders in the United States was 222 points. In a simple random sample of 16,000 fourth graders taken nationally in 2019, the average reading score is 221 and the SD is 40 points. \n",
    "\n",
    "Is the national average reading score for fourth graders in 2019 different from what it was in 2017? Or is the observed difference just chance variation? Perform a test of hypotheses to answer the question, in the following steps.\n",
    "\n",
    "**a)** State an appropriate null hypothesis in non-technical terms and also as a set of assumptions about random variables.\n",
    "\n",
    "**b)** State an appropriate alternative hypothesis.\n",
    "\n",
    "**c)** What test statistic are you going to use? Justify your choice.\n",
    "\n",
    "**d)** Find an exact or approximate $p$-value, and then find its numerical value. You can use the code cell below.\n",
    "\n",
    "**e)** At the 5% level, what is the conclusion of the test? Why?"
   ]
  },
  {
   "cell_type": "code",
   "execution_count": null,
   "metadata": {
    "#question": false,
    "#solution": false,
    "#staff": false,
    "#student": true
   },
   "outputs": [],
   "source": [
    "# For calculating the numerical value of your expression \n",
    "# for the p-value in e.\n",
    "\n",
    "..."
   ]
  },
  {
   "cell_type": "markdown",
   "metadata": {
    "#question": false,
    "#solution": false,
    "#staff": false,
    "#student": false
   },
   "source": [
    "\\newpage"
   ]
  },
  {
   "cell_type": "markdown",
   "metadata": {
    "#question": false,
    "#solution": false,
    "#staff": false,
    "#student": false
   },
   "source": [
    "## 3. Repeated Testing ##\n",
    "\n",
    "There are 210 students in Stat 88. As an exercise, each of them tests the fairness of the same coin. Each student tests the hypothesis \n",
    "\n",
    "$H_0$: The coin is fair \n",
    "\n",
    "versus \n",
    "\n",
    "$H_A$: The coin is not fair \n",
    "\n",
    "at the 5% level. \n",
    "\n",
    "Suppose the coin is in fact fair, though the students don't know it. \n",
    "\n",
    "If possible, say which of the three figures below is the probability histogram of the number of students whose test concludes that the coin is unfair and explain your selection.\n",
    "\n",
    "If this is not possible, explain why not.\n",
    "\n",
    "Figure 1 | Figure 2 | Figure 3\n",
    ":-:|:-:|:-:\n",
    "<img src=\"hw10_q3_plot1.png\" alt=\"Drawing\" style=\"width: 400px;\"/> | <img src=\"hw10_q3_plot2.png\" alt=\"Drawing\" style=\"width: 400px;\"/> | <img src=\"hw10_q3_plot3.png\" alt=\"Drawing\" style=\"width: 400px;\"/>"
   ]
  },
  {
   "cell_type": "markdown",
   "metadata": {
    "#question": false,
    "#solution": false,
    "#staff": false,
    "#student": false
   },
   "source": [
    "\\newpage"
   ]
  },
  {
   "cell_type": "markdown",
   "metadata": {
    "#question": false,
    "#solution": false,
    "#staff": false,
    "#student": false
   },
   "source": [
    "## 4. Working with Densities ##\n",
    "\n",
    "Let $X$ have density given by\n",
    "\n",
    "$$\n",
    "f(x) ~ = ~ \n",
    "\\begin{cases}\n",
    "c(1-x^2) ~~~ -1 < x < 1 \\\\\n",
    "0 ~~~~~~~~~~~~~~ \\text{ otherwise.}\n",
    "\\end{cases}\n",
    "$$\n",
    "\n",
    "Here $c$ is a constant. \n",
    "\n",
    "**a)** Sketch (by hand) a graph of the density. It's a good idea to start by finding the values of $f$ at $x = \\pm 1$, $0$, and $\\pm 0.5$.\n",
    "\n",
    "Now find each of the following, and use a code cell if necessary to provide the numerical values as well.\n",
    "\n",
    "**b)** $c$\n",
    "\n",
    "**c)** the cdf of $X$\n",
    "\n",
    "**d)** $P(\\vert X \\vert > 0.5)$"
   ]
  },
  {
   "cell_type": "markdown",
   "metadata": {
    "#question": false,
    "#solution": false,
    "#staff": false,
    "#student": false
   },
   "source": [
    "\\newpage"
   ]
  },
  {
   "cell_type": "markdown",
   "metadata": {
    "#question": false,
    "#solution": false,
    "#staff": false,
    "#student": true
   },
   "source": [
    "## Submission Instructions ##\n",
    "\n",
    "Please follow the directions below to properly submit your homework.\n",
    "\n",
    "### Written Work ###\n",
    "*  Scan all the pages into a PDF. You can use any scanner or a phone using applications such as CamScanner. Please **DO NOT** simply take pictures using your phone. \n",
    "* **Please start a new page for each question.** If you have already written multiple questions on the same page, you can crop the image in CamScanner or fold your page over (the old-fashioned way). This helps expedite grading.\n",
    "* It is your responsibility to check that all the work on all the scanned pages is legible.\n",
    "    \n",
    "### Submitting ###\n",
    "* Submit the assignment to Homework 10 on Gradescope. \n",
    "* **Make sure to assign each page of your pdf to the correct question.**\n",
    "* **It is your responsibility to verify that all of your work shows up in your final PDF submission.**\n",
    "\n",
    "If you have questions about scanning or uploading your work, please post a follow-up to the Ed thread on [Gradescope Assignment Submission](https://edstem.org/us/courses/74395/discussion/6006634)."
   ]
  }
 ],
 "metadata": {
  "checksums": [
   "fd2d44350155cd17cdaa06103cd63adb",
   "d81c015fe17ef0f91b778d7089110778",
   "50cfd3c5b9c8a286067bf5acc7bd4d30",
   "4d58e9399ac7e4395bf8cfdaf0f59547",
   "ec709731364ba0561ae7d9f7a9b29e79",
   "b367b4b398a791a10033b49d1b7855fa",
   "a3ecdb203b902d58e4fcf64e11a77b7c",
   "562505d567faf02dfc9388e81e89d07b",
   "26884eb1e76db8f23015fddfbf6dbb0c",
   "a3ecdb203b902d58e4fcf64e11a77b7c",
   "562505d567faf02dfc9388e81e89d07b",
   "b90ca2364f9112dd8d52198b3888ea9b",
   "562505d567faf02dfc9388e81e89d07b",
   "0ce2ae8c7df258e4ae46e7ffdffac2c2",
   "562505d567faf02dfc9388e81e89d07b",
   "6b8616de8b75eb2bf15fa2319e9b4fa5"
  ],
  "kernelspec": {
   "display_name": "Python 3",
   "language": "python",
   "name": "python3"
  },
  "language_info": {
   "codemirror_mode": {
    "name": "ipython",
    "version": 3
   },
   "file_extension": ".py",
   "mimetype": "text/x-python",
   "name": "python",
   "nbconvert_exporter": "python",
   "pygments_lexer": "ipython3",
   "version": "3.7.11"
  },
  "number_of_pagebreaks": 0
 },
 "nbformat": 4,
 "nbformat_minor": 4
}
